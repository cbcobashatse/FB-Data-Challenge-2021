{
 "cells": [
  {
   "cell_type": "code",
   "execution_count": 1,
   "metadata": {},
   "outputs": [],
   "source": [
    "# import all required packages\n",
    "import pandas as pd\n",
    "import matplotlib.pyplot as plt\n",
    "import seaborn as sns\n",
    "import numpy as np"
   ]
  },
  {
   "cell_type": "code",
   "execution_count": 2,
   "metadata": {
    "scrolled": true
   },
   "outputs": [
    {
     "data": {
      "text/html": [
       "<div>\n",
       "<style scoped>\n",
       "    .dataframe tbody tr th:only-of-type {\n",
       "        vertical-align: middle;\n",
       "    }\n",
       "\n",
       "    .dataframe tbody tr th {\n",
       "        vertical-align: top;\n",
       "    }\n",
       "\n",
       "    .dataframe thead th {\n",
       "        text-align: right;\n",
       "    }\n",
       "</style>\n",
       "<table border=\"1\" class=\"dataframe\">\n",
       "  <thead>\n",
       "    <tr style=\"text-align: right;\">\n",
       "      <th></th>\n",
       "      <th>show_id</th>\n",
       "      <th>type</th>\n",
       "      <th>title</th>\n",
       "      <th>director</th>\n",
       "      <th>cast</th>\n",
       "      <th>country</th>\n",
       "      <th>date_added</th>\n",
       "      <th>release_year</th>\n",
       "      <th>rating</th>\n",
       "      <th>duration</th>\n",
       "      <th>listed_in</th>\n",
       "      <th>description</th>\n",
       "    </tr>\n",
       "  </thead>\n",
       "  <tbody>\n",
       "    <tr>\n",
       "      <th>0</th>\n",
       "      <td>s1</td>\n",
       "      <td>TV Show</td>\n",
       "      <td>3%</td>\n",
       "      <td>NaN</td>\n",
       "      <td>João Miguel, Bianca Comparato, Michel Gomes, R...</td>\n",
       "      <td>Brazil</td>\n",
       "      <td>2020-08-14</td>\n",
       "      <td>2020</td>\n",
       "      <td>TV-MA</td>\n",
       "      <td>4 Seasons</td>\n",
       "      <td>International TV Shows, TV Dramas, TV Sci-Fi &amp;...</td>\n",
       "      <td>In a future where the elite inhabit an island ...</td>\n",
       "    </tr>\n",
       "    <tr>\n",
       "      <th>1</th>\n",
       "      <td>s2</td>\n",
       "      <td>Movie</td>\n",
       "      <td>7:19</td>\n",
       "      <td>Jorge Michel Grau</td>\n",
       "      <td>Demián Bichir, Héctor Bonilla, Oscar Serrano, ...</td>\n",
       "      <td>Mexico</td>\n",
       "      <td>2016-12-23</td>\n",
       "      <td>2016</td>\n",
       "      <td>TV-MA</td>\n",
       "      <td>93 min</td>\n",
       "      <td>Dramas, International Movies</td>\n",
       "      <td>After a devastating earthquake hits Mexico Cit...</td>\n",
       "    </tr>\n",
       "    <tr>\n",
       "      <th>2</th>\n",
       "      <td>s3</td>\n",
       "      <td>Movie</td>\n",
       "      <td>23:59</td>\n",
       "      <td>Gilbert Chan</td>\n",
       "      <td>Tedd Chan, Stella Chung, Henley Hii, Lawrence ...</td>\n",
       "      <td>Singapore</td>\n",
       "      <td>2018-12-20</td>\n",
       "      <td>2011</td>\n",
       "      <td>R</td>\n",
       "      <td>78 min</td>\n",
       "      <td>Horror Movies, International Movies</td>\n",
       "      <td>When an army recruit is found dead, his fellow...</td>\n",
       "    </tr>\n",
       "    <tr>\n",
       "      <th>3</th>\n",
       "      <td>s4</td>\n",
       "      <td>Movie</td>\n",
       "      <td>9</td>\n",
       "      <td>Shane Acker</td>\n",
       "      <td>Elijah Wood, John C. Reilly, Jennifer Connelly...</td>\n",
       "      <td>United States</td>\n",
       "      <td>2017-11-16</td>\n",
       "      <td>2009</td>\n",
       "      <td>PG-13</td>\n",
       "      <td>80 min</td>\n",
       "      <td>Action &amp; Adventure, Independent Movies, Sci-Fi...</td>\n",
       "      <td>In a postapocalyptic world, rag-doll robots hi...</td>\n",
       "    </tr>\n",
       "    <tr>\n",
       "      <th>4</th>\n",
       "      <td>s5</td>\n",
       "      <td>Movie</td>\n",
       "      <td>21</td>\n",
       "      <td>Robert Luketic</td>\n",
       "      <td>Jim Sturgess, Kevin Spacey, Kate Bosworth, Aar...</td>\n",
       "      <td>United States</td>\n",
       "      <td>2020-01-01</td>\n",
       "      <td>2008</td>\n",
       "      <td>PG-13</td>\n",
       "      <td>123 min</td>\n",
       "      <td>Dramas</td>\n",
       "      <td>A brilliant group of students become card-coun...</td>\n",
       "    </tr>\n",
       "  </tbody>\n",
       "</table>\n",
       "</div>"
      ],
      "text/plain": [
       "  show_id     type  title           director  \\\n",
       "0      s1  TV Show     3%                NaN   \n",
       "1      s2    Movie   7:19  Jorge Michel Grau   \n",
       "2      s3    Movie  23:59       Gilbert Chan   \n",
       "3      s4    Movie      9        Shane Acker   \n",
       "4      s5    Movie     21     Robert Luketic   \n",
       "\n",
       "                                                cast        country  \\\n",
       "0  João Miguel, Bianca Comparato, Michel Gomes, R...         Brazil   \n",
       "1  Demián Bichir, Héctor Bonilla, Oscar Serrano, ...         Mexico   \n",
       "2  Tedd Chan, Stella Chung, Henley Hii, Lawrence ...      Singapore   \n",
       "3  Elijah Wood, John C. Reilly, Jennifer Connelly...  United States   \n",
       "4  Jim Sturgess, Kevin Spacey, Kate Bosworth, Aar...  United States   \n",
       "\n",
       "  date_added  release_year rating   duration  \\\n",
       "0 2020-08-14          2020  TV-MA  4 Seasons   \n",
       "1 2016-12-23          2016  TV-MA     93 min   \n",
       "2 2018-12-20          2011      R     78 min   \n",
       "3 2017-11-16          2009  PG-13     80 min   \n",
       "4 2020-01-01          2008  PG-13    123 min   \n",
       "\n",
       "                                           listed_in  \\\n",
       "0  International TV Shows, TV Dramas, TV Sci-Fi &...   \n",
       "1                       Dramas, International Movies   \n",
       "2                Horror Movies, International Movies   \n",
       "3  Action & Adventure, Independent Movies, Sci-Fi...   \n",
       "4                                             Dramas   \n",
       "\n",
       "                                         description  \n",
       "0  In a future where the elite inhabit an island ...  \n",
       "1  After a devastating earthquake hits Mexico Cit...  \n",
       "2  When an army recruit is found dead, his fellow...  \n",
       "3  In a postapocalyptic world, rag-doll robots hi...  \n",
       "4  A brilliant group of students become card-coun...  "
      ]
     },
     "execution_count": 2,
     "metadata": {},
     "output_type": "execute_result"
    }
   ],
   "source": [
    "netflix_titles = pd.read_csv('netflix_titles.csv', parse_dates=['date_added'])\n",
    "netflix_titles.head()"
   ]
  },
  {
   "cell_type": "code",
   "execution_count": 3,
   "metadata": {},
   "outputs": [],
   "source": [
    "netflix_titles = netflix_titles[netflix_titles['date_added'].notna()]\n",
    "netflix_titles['year_added'] = netflix_titles['date_added'].dt.year"
   ]
  },
  {
   "cell_type": "code",
   "execution_count": 70,
   "metadata": {},
   "outputs": [
    {
     "data": {
      "text/html": [
       "<div>\n",
       "<style scoped>\n",
       "    .dataframe tbody tr th:only-of-type {\n",
       "        vertical-align: middle;\n",
       "    }\n",
       "\n",
       "    .dataframe tbody tr th {\n",
       "        vertical-align: top;\n",
       "    }\n",
       "\n",
       "    .dataframe thead th {\n",
       "        text-align: right;\n",
       "    }\n",
       "</style>\n",
       "<table border=\"1\" class=\"dataframe\">\n",
       "  <thead>\n",
       "    <tr style=\"text-align: right;\">\n",
       "      <th></th>\n",
       "      <th>show_id</th>\n",
       "      <th>type</th>\n",
       "      <th>title</th>\n",
       "      <th>director</th>\n",
       "      <th>cast</th>\n",
       "      <th>country</th>\n",
       "      <th>date_added</th>\n",
       "      <th>release_year</th>\n",
       "      <th>rating</th>\n",
       "      <th>duration</th>\n",
       "      <th>listed_in</th>\n",
       "      <th>description</th>\n",
       "      <th>year_added</th>\n",
       "    </tr>\n",
       "  </thead>\n",
       "  <tbody>\n",
       "    <tr>\n",
       "      <th>0</th>\n",
       "      <td>s1</td>\n",
       "      <td>TV Show</td>\n",
       "      <td>3%</td>\n",
       "      <td>NaN</td>\n",
       "      <td>João Miguel, Bianca Comparato, Michel Gomes, R...</td>\n",
       "      <td>Brazil</td>\n",
       "      <td>2020-08-14</td>\n",
       "      <td>2020</td>\n",
       "      <td>TV-MA</td>\n",
       "      <td>4 Seasons</td>\n",
       "      <td>International TV Shows, TV Dramas, TV Sci-Fi &amp;...</td>\n",
       "      <td>In a future where the elite inhabit an island ...</td>\n",
       "      <td>2020</td>\n",
       "    </tr>\n",
       "    <tr>\n",
       "      <th>1</th>\n",
       "      <td>s2</td>\n",
       "      <td>Movie</td>\n",
       "      <td>7:19</td>\n",
       "      <td>Jorge Michel Grau</td>\n",
       "      <td>Demián Bichir, Héctor Bonilla, Oscar Serrano, ...</td>\n",
       "      <td>Mexico</td>\n",
       "      <td>2016-12-23</td>\n",
       "      <td>2016</td>\n",
       "      <td>TV-MA</td>\n",
       "      <td>93 min</td>\n",
       "      <td>Dramas, International Movies</td>\n",
       "      <td>After a devastating earthquake hits Mexico Cit...</td>\n",
       "      <td>2016</td>\n",
       "    </tr>\n",
       "    <tr>\n",
       "      <th>2</th>\n",
       "      <td>s3</td>\n",
       "      <td>Movie</td>\n",
       "      <td>23:59</td>\n",
       "      <td>Gilbert Chan</td>\n",
       "      <td>Tedd Chan, Stella Chung, Henley Hii, Lawrence ...</td>\n",
       "      <td>Singapore</td>\n",
       "      <td>2018-12-20</td>\n",
       "      <td>2011</td>\n",
       "      <td>R</td>\n",
       "      <td>78 min</td>\n",
       "      <td>Horror Movies, International Movies</td>\n",
       "      <td>When an army recruit is found dead, his fellow...</td>\n",
       "      <td>2018</td>\n",
       "    </tr>\n",
       "    <tr>\n",
       "      <th>3</th>\n",
       "      <td>s4</td>\n",
       "      <td>Movie</td>\n",
       "      <td>9</td>\n",
       "      <td>Shane Acker</td>\n",
       "      <td>Elijah Wood, John C. Reilly, Jennifer Connelly...</td>\n",
       "      <td>United States</td>\n",
       "      <td>2017-11-16</td>\n",
       "      <td>2009</td>\n",
       "      <td>PG-13</td>\n",
       "      <td>80 min</td>\n",
       "      <td>Action &amp; Adventure, Independent Movies, Sci-Fi...</td>\n",
       "      <td>In a postapocalyptic world, rag-doll robots hi...</td>\n",
       "      <td>2017</td>\n",
       "    </tr>\n",
       "    <tr>\n",
       "      <th>4</th>\n",
       "      <td>s5</td>\n",
       "      <td>Movie</td>\n",
       "      <td>21</td>\n",
       "      <td>Robert Luketic</td>\n",
       "      <td>Jim Sturgess, Kevin Spacey, Kate Bosworth, Aar...</td>\n",
       "      <td>United States</td>\n",
       "      <td>2020-01-01</td>\n",
       "      <td>2008</td>\n",
       "      <td>PG-13</td>\n",
       "      <td>123 min</td>\n",
       "      <td>Dramas</td>\n",
       "      <td>A brilliant group of students become card-coun...</td>\n",
       "      <td>2020</td>\n",
       "    </tr>\n",
       "    <tr>\n",
       "      <th>...</th>\n",
       "      <td>...</td>\n",
       "      <td>...</td>\n",
       "      <td>...</td>\n",
       "      <td>...</td>\n",
       "      <td>...</td>\n",
       "      <td>...</td>\n",
       "      <td>...</td>\n",
       "      <td>...</td>\n",
       "      <td>...</td>\n",
       "      <td>...</td>\n",
       "      <td>...</td>\n",
       "      <td>...</td>\n",
       "      <td>...</td>\n",
       "    </tr>\n",
       "    <tr>\n",
       "      <th>7782</th>\n",
       "      <td>s7783</td>\n",
       "      <td>Movie</td>\n",
       "      <td>Zozo</td>\n",
       "      <td>Josef Fares</td>\n",
       "      <td>Imad Creidi, Antoinette Turk, Elias Gergi, Car...</td>\n",
       "      <td>Sweden, Czech Republic, United Kingdom, Denmar...</td>\n",
       "      <td>2020-10-19</td>\n",
       "      <td>2005</td>\n",
       "      <td>TV-MA</td>\n",
       "      <td>99 min</td>\n",
       "      <td>Dramas, International Movies</td>\n",
       "      <td>When Lebanon's Civil War deprives Zozo of his ...</td>\n",
       "      <td>2020</td>\n",
       "    </tr>\n",
       "    <tr>\n",
       "      <th>7783</th>\n",
       "      <td>s7784</td>\n",
       "      <td>Movie</td>\n",
       "      <td>Zubaan</td>\n",
       "      <td>Mozez Singh</td>\n",
       "      <td>Vicky Kaushal, Sarah-Jane Dias, Raaghav Chanan...</td>\n",
       "      <td>India</td>\n",
       "      <td>2019-03-02</td>\n",
       "      <td>2015</td>\n",
       "      <td>TV-14</td>\n",
       "      <td>111 min</td>\n",
       "      <td>Dramas, International Movies, Music &amp; Musicals</td>\n",
       "      <td>A scrappy but poor boy worms his way into a ty...</td>\n",
       "      <td>2019</td>\n",
       "    </tr>\n",
       "    <tr>\n",
       "      <th>7784</th>\n",
       "      <td>s7785</td>\n",
       "      <td>Movie</td>\n",
       "      <td>Zulu Man in Japan</td>\n",
       "      <td>NaN</td>\n",
       "      <td>Nasty C</td>\n",
       "      <td>NaN</td>\n",
       "      <td>2020-09-25</td>\n",
       "      <td>2019</td>\n",
       "      <td>TV-MA</td>\n",
       "      <td>44 min</td>\n",
       "      <td>Documentaries, International Movies, Music &amp; M...</td>\n",
       "      <td>In this documentary, South African rapper Nast...</td>\n",
       "      <td>2020</td>\n",
       "    </tr>\n",
       "    <tr>\n",
       "      <th>7785</th>\n",
       "      <td>s7786</td>\n",
       "      <td>TV Show</td>\n",
       "      <td>Zumbo's Just Desserts</td>\n",
       "      <td>NaN</td>\n",
       "      <td>Adriano Zumbo, Rachel Khoo</td>\n",
       "      <td>Australia</td>\n",
       "      <td>2020-10-31</td>\n",
       "      <td>2019</td>\n",
       "      <td>TV-PG</td>\n",
       "      <td>1 Season</td>\n",
       "      <td>International TV Shows, Reality TV</td>\n",
       "      <td>Dessert wizard Adriano Zumbo looks for the nex...</td>\n",
       "      <td>2020</td>\n",
       "    </tr>\n",
       "    <tr>\n",
       "      <th>7786</th>\n",
       "      <td>s7787</td>\n",
       "      <td>Movie</td>\n",
       "      <td>ZZ TOP: THAT LITTLE OL' BAND FROM TEXAS</td>\n",
       "      <td>Sam Dunn</td>\n",
       "      <td>NaN</td>\n",
       "      <td>United Kingdom, Canada, United States</td>\n",
       "      <td>2020-03-01</td>\n",
       "      <td>2019</td>\n",
       "      <td>TV-MA</td>\n",
       "      <td>90 min</td>\n",
       "      <td>Documentaries, Music &amp; Musicals</td>\n",
       "      <td>This documentary delves into the mystique behi...</td>\n",
       "      <td>2020</td>\n",
       "    </tr>\n",
       "  </tbody>\n",
       "</table>\n",
       "<p>7632 rows × 13 columns</p>\n",
       "</div>"
      ],
      "text/plain": [
       "     show_id     type                                    title  \\\n",
       "0         s1  TV Show                                       3%   \n",
       "1         s2    Movie                                     7:19   \n",
       "2         s3    Movie                                    23:59   \n",
       "3         s4    Movie                                        9   \n",
       "4         s5    Movie                                       21   \n",
       "...      ...      ...                                      ...   \n",
       "7782   s7783    Movie                                     Zozo   \n",
       "7783   s7784    Movie                                   Zubaan   \n",
       "7784   s7785    Movie                        Zulu Man in Japan   \n",
       "7785   s7786  TV Show                    Zumbo's Just Desserts   \n",
       "7786   s7787    Movie  ZZ TOP: THAT LITTLE OL' BAND FROM TEXAS   \n",
       "\n",
       "               director                                               cast  \\\n",
       "0                   NaN  João Miguel, Bianca Comparato, Michel Gomes, R...   \n",
       "1     Jorge Michel Grau  Demián Bichir, Héctor Bonilla, Oscar Serrano, ...   \n",
       "2          Gilbert Chan  Tedd Chan, Stella Chung, Henley Hii, Lawrence ...   \n",
       "3           Shane Acker  Elijah Wood, John C. Reilly, Jennifer Connelly...   \n",
       "4        Robert Luketic  Jim Sturgess, Kevin Spacey, Kate Bosworth, Aar...   \n",
       "...                 ...                                                ...   \n",
       "7782        Josef Fares  Imad Creidi, Antoinette Turk, Elias Gergi, Car...   \n",
       "7783        Mozez Singh  Vicky Kaushal, Sarah-Jane Dias, Raaghav Chanan...   \n",
       "7784                NaN                                            Nasty C   \n",
       "7785                NaN                         Adriano Zumbo, Rachel Khoo   \n",
       "7786           Sam Dunn                                                NaN   \n",
       "\n",
       "                                                country date_added  \\\n",
       "0                                                Brazil 2020-08-14   \n",
       "1                                                Mexico 2016-12-23   \n",
       "2                                             Singapore 2018-12-20   \n",
       "3                                         United States 2017-11-16   \n",
       "4                                         United States 2020-01-01   \n",
       "...                                                 ...        ...   \n",
       "7782  Sweden, Czech Republic, United Kingdom, Denmar... 2020-10-19   \n",
       "7783                                              India 2019-03-02   \n",
       "7784                                                NaN 2020-09-25   \n",
       "7785                                          Australia 2020-10-31   \n",
       "7786              United Kingdom, Canada, United States 2020-03-01   \n",
       "\n",
       "      release_year rating   duration  \\\n",
       "0             2020  TV-MA  4 Seasons   \n",
       "1             2016  TV-MA     93 min   \n",
       "2             2011      R     78 min   \n",
       "3             2009  PG-13     80 min   \n",
       "4             2008  PG-13    123 min   \n",
       "...            ...    ...        ...   \n",
       "7782          2005  TV-MA     99 min   \n",
       "7783          2015  TV-14    111 min   \n",
       "7784          2019  TV-MA     44 min   \n",
       "7785          2019  TV-PG   1 Season   \n",
       "7786          2019  TV-MA     90 min   \n",
       "\n",
       "                                              listed_in  \\\n",
       "0     International TV Shows, TV Dramas, TV Sci-Fi &...   \n",
       "1                          Dramas, International Movies   \n",
       "2                   Horror Movies, International Movies   \n",
       "3     Action & Adventure, Independent Movies, Sci-Fi...   \n",
       "4                                                Dramas   \n",
       "...                                                 ...   \n",
       "7782                       Dramas, International Movies   \n",
       "7783     Dramas, International Movies, Music & Musicals   \n",
       "7784  Documentaries, International Movies, Music & M...   \n",
       "7785                 International TV Shows, Reality TV   \n",
       "7786                    Documentaries, Music & Musicals   \n",
       "\n",
       "                                            description  year_added  \n",
       "0     In a future where the elite inhabit an island ...        2020  \n",
       "1     After a devastating earthquake hits Mexico Cit...        2016  \n",
       "2     When an army recruit is found dead, his fellow...        2018  \n",
       "3     In a postapocalyptic world, rag-doll robots hi...        2017  \n",
       "4     A brilliant group of students become card-coun...        2020  \n",
       "...                                                 ...         ...  \n",
       "7782  When Lebanon's Civil War deprives Zozo of his ...        2020  \n",
       "7783  A scrappy but poor boy worms his way into a ty...        2019  \n",
       "7784  In this documentary, South African rapper Nast...        2020  \n",
       "7785  Dessert wizard Adriano Zumbo looks for the nex...        2020  \n",
       "7786  This documentary delves into the mystique behi...        2020  \n",
       "\n",
       "[7632 rows x 13 columns]"
      ]
     },
     "execution_count": 70,
     "metadata": {},
     "output_type": "execute_result"
    }
   ],
   "source": [
    "recent_shows"
   ]
  },
  {
   "cell_type": "code",
   "execution_count": 4,
   "metadata": {},
   "outputs": [],
   "source": [
    "recent_shows = pd.DataFrame(netflix_titles[netflix_titles['year_added'] > 2015])\n",
    "# recent_shows"
   ]
  },
  {
   "cell_type": "code",
   "execution_count": 5,
   "metadata": {},
   "outputs": [],
   "source": [
    "movies = netflix_titles[netflix_titles['type'] == 'Movie']\n",
    "# movies"
   ]
  },
  {
   "cell_type": "code",
   "execution_count": 6,
   "metadata": {},
   "outputs": [],
   "source": [
    "tv_shows = netflix_titles[netflix_titles['type'] == 'TV Show']\n",
    "# tv_shows"
   ]
  },
  {
   "cell_type": "markdown",
   "metadata": {},
   "source": [
    "# Movies vs. TV Shows\n",
    "\n",
    "This dataset contains a total of 7787 shows; 5377 of them are movies while 2410 are TV shows. This seems to suggest that movies are more popular than TV shows on Netflix.\n",
    "\n",
    "However, an analysis of the trends over time shows that TV shows have become more and more popular."
   ]
  },
  {
   "cell_type": "code",
   "execution_count": 7,
   "metadata": {},
   "outputs": [],
   "source": [
    "plt.rcParams['axes.facecolor'] = '#fce5cd'\n",
    "#axes = df.plot.bar(rot=0, subplots=True)"
   ]
  },
  {
   "cell_type": "code",
   "execution_count": 8,
   "metadata": {},
   "outputs": [
    {
     "data": {
      "text/plain": [
       "Text(0, 0.5, 'No. of Movies')"
      ]
     },
     "execution_count": 8,
     "metadata": {},
     "output_type": "execute_result"
    },
    {
     "data": {
      "image/png": "[encoded data removed]",
      "text/plain": [
       "<Figure size 432x288 with 1 Axes>"
      ]
     },
     "metadata": {
      "needs_background": "light"
     },
     "output_type": "display_data"
    }
   ],
   "source": [
    "recent_movies = movies[movies['year_added'] > 2015]\n",
    "movie_trends = recent_movies.groupby('year_added')['type'].count()\n",
    "movie_trends_plot = movie_trends.plot.bar(title='Addition to Netflix Trends Overtime', figsize=(6,4), rot=0, color='#ffab40')\n",
    "movie_trends_plot.set_xlabel('Year of Addition to Netflix')\n",
    "movie_trends_plot.set_ylabel('No. of Movies')"
   ]
  },
  {
   "cell_type": "code",
   "execution_count": 9,
   "metadata": {
    "scrolled": true
   },
   "outputs": [
    {
     "data": {
      "text/plain": [
       "Text(0, 0.5, 'No. of TV Shows')"
      ]
     },
     "execution_count": 9,
     "metadata": {},
     "output_type": "execute_result"
    },
    {
     "data": {
      "image/png": "[encoded data removed]",
      "text/plain": [
       "<Figure size 432x288 with 1 Axes>"
      ]
     },
     "metadata": {
      "needs_background": "light"
     },
     "output_type": "display_data"
    }
   ],
   "source": [
    "recent_tv_shows = tv_shows[tv_shows['year_added'] > 2015]\n",
    "tv_shows_trends = recent_tv_shows.groupby('year_added')['type'].count()\n",
    "#movie_trends.head()\n",
    "tv_shows_trends_plot = tv_shows_trends.plot.bar(title='Addition to Netflix Trends Overtime', figsize=(6,4), rot=0, color='#ffab40')\n",
    "tv_shows_trends_plot.set_xlabel('Year of Addition to Netflix')\n",
    "tv_shows_trends_plot.set_ylabel('No. of TV Shows')"
   ]
  },
  {
   "cell_type": "markdown",
   "metadata": {},
   "source": [
    "The 2 barplots above clearly show that the popularity of movies released in the last 20 years is declining while the TV shows are gaining some grounds.\n",
    "\n",
    "Conclusions:\n",
    "Zuckflix should focus on the production of TV shows as their market and popularity is most likely going to keep growing in the next few years."
   ]
  },
  {
   "cell_type": "markdown",
   "metadata": {},
   "source": [
    "# All Shows Ratings\n",
    "\n",
    "Overall, shows rated as TV-MA, TV-14, TV-PG, R, and TV-Y seem to be the most popular although a few differences might arise depending on whether it's a movie or TV show. This is due to the fact that the R and PG-13 ratings are rare or non-existent for TV shows.\n",
    "\n",
    "# Recent Show Ratings\n",
    "\n",
    "Total number of shows since 2016 = 4910\n",
    "Number of TV Shows since 2016 = 1785\n",
    "Number of Movies since 2016 = 3125\n",
    "\n",
    "Top 5 show ratings = TV-MA, TV-14, TV-PG, R, TV-Y\n",
    "Top 5 movie ratings = TV-MA, TV-14, TV-PG, R, PG-13\n",
    "Top 5 tv show ratings = TV-MA, TV-14, TV-PG, TV-Y, TV-Y7\n",
    "\n",
    "Conclusions: Zuckflix should focus on the top 3 ratings across categories: TV-MA, TV-14, TV-PG. Their content seem to be most popular.\n",
    "\n",
    "# Ratings over time\n",
    "\n",
    "For movies,\n",
    "- decreasing trends = TV-MA, TV-14, TV-PG\n",
    "- mixed trends = R, PG-13\n",
    "- increasing trends = TV-Y\n",
    "\n",
    "For TV shows,\n",
    "- increasing trends = TV-MA, TV-G\n",
    "- mixed trends = TV-14, TV-PG, TV-Y, TV-Y7\n",
    "\n",
    "Overall,\n",
    "- mixed trends = TV-MA, TV-14R, TV-PG, PG-13, PG\n",
    "- increasing trends = TV-Y\n",
    "- mostly increasing trends = TV-Y7, TV-G\n",
    "\n",
    "# Conclusions\n",
    "\n",
    "Zuckflix should focus on contents rated as TV-Y and TV-Y7 (mostly for TV shows) and TV-MA and TV-G (mostly for movies).\n",
    "\n",
    "//Check this out a bit more!!!\n",
    "\n",
    "A few ratings such as PG-13 and TV-PG have mixed trends, but they could still be options to explore as Zuckflix could potentially revive them. Since the relative decrease seems not to be constant."
   ]
  },
  {
   "cell_type": "code",
   "execution_count": 10,
   "metadata": {},
   "outputs": [
    {
     "data": {
      "image/png": "[encoded data removed]",
      "text/plain": [
       "<Figure size 432x288 with 1 Axes>"
      ]
     },
     "metadata": {
      "needs_background": "light"
     },
     "output_type": "display_data"
    }
   ],
   "source": [
    "# recent shows ratings (similar process for movies and overall)\n",
    "shows_rating = pd.DataFrame(recent_shows['rating'].value_counts()).reset_index()\n",
    "ax2 = shows_rating.head(5).plot.bar(x='index', y='rating', rot=0, figsize=(6,4))"
   ]
  },
  {
   "cell_type": "code",
   "execution_count": 11,
   "metadata": {},
   "outputs": [
    {
     "data": {
      "image/png": "[encoded data removed]",
      "text/plain": [
       "<Figure size 432x288 with 1 Axes>"
      ]
     },
     "metadata": {
      "needs_background": "light"
     },
     "output_type": "display_data"
    }
   ],
   "source": [
    "# recent movies ratings (similar process for movies and overall)\n",
    "movies_rating = pd.DataFrame(recent_movies['rating'].value_counts()).reset_index()\n",
    "ax2 = movies_rating.head(5).plot.bar(x='index', y='rating', rot=0, figsize=(6,4))"
   ]
  },
  {
   "cell_type": "code",
   "execution_count": 12,
   "metadata": {},
   "outputs": [
    {
     "data": {
      "image/png": "[encoded data removed]",
      "text/plain": [
       "<Figure size 432x288 with 1 Axes>"
      ]
     },
     "metadata": {
      "needs_background": "light"
     },
     "output_type": "display_data"
    }
   ],
   "source": [
    "# recent tv shows ratings (similar process for movies and overall)\n",
    "tv_shows_rating = pd.DataFrame(recent_tv_shows['rating'].value_counts()).reset_index()\n",
    "ax3 = tv_shows_rating.head(5).plot.bar(x='index', y='rating', rot=0, figsize=(6,4))"
   ]
  },
  {
   "cell_type": "code",
   "execution_count": 13,
   "metadata": {
    "scrolled": true
   },
   "outputs": [
    {
     "data": {
      "text/plain": [
       "<matplotlib.axes._subplots.AxesSubplot at 0x7f0705966ef0>"
      ]
     },
     "execution_count": 13,
     "metadata": {},
     "output_type": "execute_result"
    },
    {
     "data": {
      "image/png": "[encoded data removed]",
      "text/plain": [
       "<Figure size 432x288 with 1 Axes>"
      ]
     },
     "metadata": {
      "needs_background": "light"
     },
     "output_type": "display_data"
    }
   ],
   "source": [
    "# ratings trends over time (similar process for movies and tv shows)\n",
    "ratings_overall = recent_shows[recent_shows['rating'] == 'TV-Y']\n",
    "overall_ratings_trends = ratings_overall.groupby('year_added')['rating'].count()\n",
    "overall_ratings_trends.plot.bar(figsize=(6,4))"
   ]
  },
  {
   "cell_type": "code",
   "execution_count": 14,
   "metadata": {},
   "outputs": [
    {
     "data": {
      "text/plain": [
       "Text(0, 0.5, 'No. of Movies')"
      ]
     },
     "execution_count": 14,
     "metadata": {},
     "output_type": "execute_result"
    },
    {
     "data": {
      "image/png": "[encoded data removed]",
      "text/plain": [
       "<Figure size 432x288 with 1 Axes>"
      ]
     },
     "metadata": {
      "needs_background": "light"
     },
     "output_type": "display_data"
    }
   ],
   "source": [
    "# ratings trends over time (similar process for movies and tv shows)\n",
    "movie_ratings = recent_movies[recent_movies['rating'] == 'TV-Y']\n",
    "movie_ratings_trends = movie_ratings.groupby('year_added')['rating'].count()\n",
    "#movie_ratings_trends.plot.bar(figsize=(6,4))\n",
    "movie_ratings_trends_plot = movie_ratings_trends.plot.bar(title='TV-Y Movies over Time', figsize=(6,4), rot=0, color='#ffab40')\n",
    "movie_ratings_trends_plot.set_xlabel('Year of Addition to Netflix')\n",
    "movie_ratings_trends_plot.set_ylabel('No. of Movies')"
   ]
  },
  {
   "cell_type": "code",
   "execution_count": 15,
   "metadata": {},
   "outputs": [
    {
     "data": {
      "text/plain": [
       "Text(0, 0.5, 'No. of TV Shows')"
      ]
     },
     "execution_count": 15,
     "metadata": {},
     "output_type": "execute_result"
    },
    {
     "data": {
      "image/png": "[encoded data removed]",
      "text/plain": [
       "<Figure size 432x288 with 1 Axes>"
      ]
     },
     "metadata": {
      "needs_background": "light"
     },
     "output_type": "display_data"
    }
   ],
   "source": [
    "# ratings trends over time (similar process for movies and tv shows)\n",
    "tv_shows_ratings = recent_tv_shows[recent_tv_shows['rating'] == 'TV-Y']\n",
    "tv_shows_ratings_trends = tv_shows_ratings.groupby('year_added')['rating'].count()\n",
    "tv_shows_ratings_trends_plot = tv_shows_ratings_trends.plot.bar(title='TV-Y TV Shows over Time', figsize=(6,4), rot=0, color='#ffab40')\n",
    "tv_shows_ratings_trends_plot.set_xlabel('Year of Addition to Netflix')\n",
    "tv_shows_ratings_trends_plot.set_ylabel('No. of TV Shows')"
   ]
  },
  {
   "cell_type": "markdown",
   "metadata": {},
   "source": [
    "# TV Shows Duration\n",
    "\n",
    "It looks like a significant majority of TV shows have only 1 season, with TV shows of 2 or 3 seasons complete the top 3 TV shows in terms of duration.\n",
    "\n",
    "# Movies Duration\n",
    "\n",
    "It looks like the majority of movies tend to last between 85 and 112 min (roughly 1 hour 25 min and 1 hour 45 min).\n",
    "\n",
    "# Recommendations\n",
    "\n",
    "Zuckflix should focus on content that fits within these duration trends.\n",
    "\n",
    "For tv shows, it should focus on content with 1 to 3 seasons. I would strongly suggest tv shows with 1 season. Zuckflix should fund production of more seasons if and only if a TV show gains apparent popularity. Metrics for this could be a tv show's coverage in the media such as the way the tv show Manifest has been talked about in the media in the last 2 months.\n",
    "\n",
    "For movies, Zuckflix should produce or fund movies that last around 1 hour and 30 min as they will be able to keep viewers interested enough in the movie without necessarily getting bored, tired, or falling asleep."
   ]
  },
  {
   "cell_type": "code",
   "execution_count": 16,
   "metadata": {},
   "outputs": [
    {
     "name": "stderr",
     "output_type": "stream",
     "text": [
      "/usr/local/lib/python3.6/dist-packages/pandas/core/indexing.py:1743: SettingWithCopyWarning: \n",
      "A value is trying to be set on a copy of a slice from a DataFrame.\n",
      "Try using .loc[row_indexer,col_indexer] = value instead\n",
      "\n",
      "See the caveats in the documentation: https://pandas.pydata.org/pandas-docs/stable/user_guide/indexing.html#returning-a-view-versus-a-copy\n",
      "  isetter(ilocs[0], value)\n"
     ]
    },
    {
     "data": {
      "text/html": [
       "<div>\n",
       "<style scoped>\n",
       "    .dataframe tbody tr th:only-of-type {\n",
       "        vertical-align: middle;\n",
       "    }\n",
       "\n",
       "    .dataframe tbody tr th {\n",
       "        vertical-align: top;\n",
       "    }\n",
       "\n",
       "    .dataframe thead th {\n",
       "        text-align: right;\n",
       "    }\n",
       "</style>\n",
       "<table border=\"1\" class=\"dataframe\">\n",
       "  <thead>\n",
       "    <tr style=\"text-align: right;\">\n",
       "      <th></th>\n",
       "      <th>show_id</th>\n",
       "      <th>type</th>\n",
       "      <th>title</th>\n",
       "      <th>director</th>\n",
       "      <th>cast</th>\n",
       "      <th>country</th>\n",
       "      <th>date_added</th>\n",
       "      <th>release_year</th>\n",
       "      <th>rating</th>\n",
       "      <th>duration</th>\n",
       "      <th>listed_in</th>\n",
       "      <th>description</th>\n",
       "      <th>year_added</th>\n",
       "    </tr>\n",
       "  </thead>\n",
       "  <tbody>\n",
       "    <tr>\n",
       "      <th>0</th>\n",
       "      <td>s1</td>\n",
       "      <td>TV Show</td>\n",
       "      <td>3%</td>\n",
       "      <td>NaN</td>\n",
       "      <td>João Miguel, Bianca Comparato, Michel Gomes, R...</td>\n",
       "      <td>Brazil</td>\n",
       "      <td>2020-08-14</td>\n",
       "      <td>2020</td>\n",
       "      <td>TV-MA</td>\n",
       "      <td>4</td>\n",
       "      <td>International TV Shows, TV Dramas, TV Sci-Fi &amp;...</td>\n",
       "      <td>In a future where the elite inhabit an island ...</td>\n",
       "      <td>2020</td>\n",
       "    </tr>\n",
       "  </tbody>\n",
       "</table>\n",
       "</div>"
      ],
      "text/plain": [
       "  show_id     type title director  \\\n",
       "0      s1  TV Show    3%      NaN   \n",
       "\n",
       "                                                cast country date_added  \\\n",
       "0  João Miguel, Bianca Comparato, Michel Gomes, R...  Brazil 2020-08-14   \n",
       "\n",
       "   release_year rating duration  \\\n",
       "0          2020  TV-MA        4   \n",
       "\n",
       "                                           listed_in  \\\n",
       "0  International TV Shows, TV Dramas, TV Sci-Fi &...   \n",
       "\n",
       "                                         description  year_added  \n",
       "0  In a future where the elite inhabit an island ...        2020  "
      ]
     },
     "execution_count": 16,
     "metadata": {},
     "output_type": "execute_result"
    }
   ],
   "source": [
    "recent_tv_shows.loc[:, 'duration'] = recent_tv_shows['duration'].str.replace(' Season', '').str.replace('s', '')\n",
    "recent_tv_shows.head(1)"
   ]
  },
  {
   "cell_type": "code",
   "execution_count": 17,
   "metadata": {
    "scrolled": true
   },
   "outputs": [
    {
     "data": {
      "text/plain": [
       "Text(0, 0.5, 'No. of TV Shows')"
      ]
     },
     "execution_count": 17,
     "metadata": {},
     "output_type": "execute_result"
    },
    {
     "data": {
      "image/png": "[encoded data removed]",
      "text/plain": [
       "<Figure size 432x288 with 1 Axes>"
      ]
     },
     "metadata": {
      "needs_background": "light"
     },
     "output_type": "display_data"
    }
   ],
   "source": [
    "tv_shows_duration = pd.DataFrame(recent_tv_shows['duration'].value_counts()).reset_index()\n",
    "tv_shows_duration.rename(columns={\"index\": \"duration (in seasons)\", \"duration\": \"num of tv shows\"}, inplace=True)\n",
    "# tv_shows_duration.head()\n",
    "ax = tv_shows_duration.head().plot.bar(x='duration (in seasons)', y='num of tv shows', title='Length of TV Shows', rot=0, figsize=(6,4), color='#ffab40', legend=False)\n",
    "ax.set_xlabel('Length of TV Show (in seasons)')\n",
    "ax.set_ylabel('No. of TV Shows')"
   ]
  },
  {
   "cell_type": "code",
   "execution_count": 18,
   "metadata": {},
   "outputs": [
    {
     "name": "stderr",
     "output_type": "stream",
     "text": [
      "/usr/local/lib/python3.6/dist-packages/pandas/core/indexing.py:1743: SettingWithCopyWarning: \n",
      "A value is trying to be set on a copy of a slice from a DataFrame.\n",
      "Try using .loc[row_indexer,col_indexer] = value instead\n",
      "\n",
      "See the caveats in the documentation: https://pandas.pydata.org/pandas-docs/stable/user_guide/indexing.html#returning-a-view-versus-a-copy\n",
      "  isetter(ilocs[0], value)\n"
     ]
    }
   ],
   "source": [
    "# figure out why the copy has flaws\n",
    "recent_movies.loc[:, 'duration'] = recent_movies['duration'].str.replace(' min', '')\n",
    "int_movies = recent_movies.copy()\n",
    "int_movies['duration'] = int_movies['duration'].astype(int)\n",
    "sorted_movies = int_movies.sort_values(by=['duration'])\n",
    "sorted_movies = sorted_movies[sorted_movies['duration'] < 200]"
   ]
  },
  {
   "cell_type": "code",
   "execution_count": 19,
   "metadata": {
    "scrolled": false
   },
   "outputs": [
    {
     "data": {
      "text/plain": [
       "Text(0.5, 1.0, 'Length of Movies')"
      ]
     },
     "execution_count": 19,
     "metadata": {},
     "output_type": "execute_result"
    },
    {
     "data": {
      "image/png": "[encoded data removed]",
      "text/plain": [
       "<Figure size 504x288 with 1 Axes>"
      ]
     },
     "metadata": {},
     "output_type": "display_data"
    }
   ],
   "source": [
    "sns.set(rc={'figure.figsize':(7,4), 'axes.facecolor':'#fce5cd'})\n",
    "sns.set_style({'axes.grid' : False})\n",
    "ax = sns.histplot(data=sorted_movies, x='duration', color='#ffab40')\n",
    "ax.set(xlabel=\"Length of Movie (in minutes)\", ylabel = \"No. of Movies\")\n",
    "plt.title(\"Length of Movies\")"
   ]
  },
  {
   "cell_type": "markdown",
   "metadata": {},
   "source": [
    "# Country Recent Trends\n",
    "\n",
    "Analyzing all countries a movie or TV show might have been produced in the last 5 years, it looks like the US comes first with around 2000 shows produced there in total; 5 times the number of shows compared to the 2nd country (India).\n",
    "\n",
    "The recommendation would then be for Zuckflix to focus mostly on the top 3 countries (US, India, and UK) for the next 5 years at least. Once, it is established in these places, it could look into producing contents in other countries and, especially, in Canada and France, countries that complete the top 5 countries in which most shows are produced."
   ]
  },
  {
   "cell_type": "code",
   "execution_count": 20,
   "metadata": {},
   "outputs": [
    {
     "data": {
      "text/html": [
       "<div>\n",
       "<style scoped>\n",
       "    .dataframe tbody tr th:only-of-type {\n",
       "        vertical-align: middle;\n",
       "    }\n",
       "\n",
       "    .dataframe tbody tr th {\n",
       "        vertical-align: top;\n",
       "    }\n",
       "\n",
       "    .dataframe thead th {\n",
       "        text-align: right;\n",
       "    }\n",
       "</style>\n",
       "<table border=\"1\" class=\"dataframe\">\n",
       "  <thead>\n",
       "    <tr style=\"text-align: right;\">\n",
       "      <th></th>\n",
       "      <th>index</th>\n",
       "      <th>country</th>\n",
       "    </tr>\n",
       "  </thead>\n",
       "  <tbody>\n",
       "    <tr>\n",
       "      <th>0</th>\n",
       "      <td>United States</td>\n",
       "      <td>3290</td>\n",
       "    </tr>\n",
       "    <tr>\n",
       "      <th>1</th>\n",
       "      <td>India</td>\n",
       "      <td>990</td>\n",
       "    </tr>\n",
       "    <tr>\n",
       "      <th>2</th>\n",
       "      <td>United Kingdom</td>\n",
       "      <td>721</td>\n",
       "    </tr>\n",
       "    <tr>\n",
       "      <th>3</th>\n",
       "      <td>Canada</td>\n",
       "      <td>412</td>\n",
       "    </tr>\n",
       "    <tr>\n",
       "      <th>4</th>\n",
       "      <td>France</td>\n",
       "      <td>349</td>\n",
       "    </tr>\n",
       "  </tbody>\n",
       "</table>\n",
       "</div>"
      ],
      "text/plain": [
       "            index  country\n",
       "0   United States     3290\n",
       "1           India      990\n",
       "2  United Kingdom      721\n",
       "3          Canada      412\n",
       "4          France      349"
      ]
     },
     "execution_count": 20,
     "metadata": {},
     "output_type": "execute_result"
    }
   ],
   "source": [
    "# all recent countries\n",
    "all_countries = netflix_titles.copy()\n",
    "\n",
    "# split the strings into lists\n",
    "all_countries['country'] = all_countries['country'].str.split(', ')\n",
    "\n",
    "# explode the lists\n",
    "all_countries = all_countries.explode('country').reset_index(drop=True)\n",
    "\n",
    "# dataframe fro recent shows with all countries\n",
    "sep_country_df = pd.DataFrame(all_countries['country'].value_counts()).reset_index()\n",
    "sep_country_df.head()"
   ]
  },
  {
   "cell_type": "code",
   "execution_count": 21,
   "metadata": {
    "scrolled": true
   },
   "outputs": [
    {
     "data": {
      "text/html": [
       "<div>\n",
       "<style scoped>\n",
       "    .dataframe tbody tr th:only-of-type {\n",
       "        vertical-align: middle;\n",
       "    }\n",
       "\n",
       "    .dataframe tbody tr th {\n",
       "        vertical-align: top;\n",
       "    }\n",
       "\n",
       "    .dataframe thead th {\n",
       "        text-align: right;\n",
       "    }\n",
       "</style>\n",
       "<table border=\"1\" class=\"dataframe\">\n",
       "  <thead>\n",
       "    <tr style=\"text-align: right;\">\n",
       "      <th></th>\n",
       "      <th>index</th>\n",
       "      <th>country</th>\n",
       "    </tr>\n",
       "  </thead>\n",
       "  <tbody>\n",
       "    <tr>\n",
       "      <th>0</th>\n",
       "      <td>United States</td>\n",
       "      <td>3178</td>\n",
       "    </tr>\n",
       "    <tr>\n",
       "      <th>1</th>\n",
       "      <td>India</td>\n",
       "      <td>990</td>\n",
       "    </tr>\n",
       "    <tr>\n",
       "      <th>2</th>\n",
       "      <td>United Kingdom</td>\n",
       "      <td>710</td>\n",
       "    </tr>\n",
       "    <tr>\n",
       "      <th>3</th>\n",
       "      <td>Canada</td>\n",
       "      <td>399</td>\n",
       "    </tr>\n",
       "    <tr>\n",
       "      <th>4</th>\n",
       "      <td>France</td>\n",
       "      <td>339</td>\n",
       "    </tr>\n",
       "  </tbody>\n",
       "</table>\n",
       "</div>"
      ],
      "text/plain": [
       "            index  country\n",
       "0   United States     3178\n",
       "1           India      990\n",
       "2  United Kingdom      710\n",
       "3          Canada      399\n",
       "4          France      339"
      ]
     },
     "execution_count": 21,
     "metadata": {},
     "output_type": "execute_result"
    }
   ],
   "source": [
    "# all recent countries\n",
    "all_recent_countries = recent_shows.copy()\n",
    "\n",
    "# split the strings into lists\n",
    "all_recent_countries['country'] = all_recent_countries['country'].str.split(', ')\n",
    "\n",
    "# explode the lists\n",
    "all_recent_countries = all_recent_countries.explode('country').reset_index(drop=True)\n",
    "\n",
    "# dataframe fro recent shows with all countries\n",
    "rec_sep_country_df = pd.DataFrame(all_recent_countries['country'].value_counts()).reset_index()\n",
    "rec_sep_country_df.head()"
   ]
  },
  {
   "cell_type": "markdown",
   "metadata": {},
   "source": [
    "# Exploring if the countries trends vary for TV shows or movies"
   ]
  },
  {
   "cell_type": "markdown",
   "metadata": {},
   "source": [
    "# Movies"
   ]
  },
  {
   "cell_type": "code",
   "execution_count": 22,
   "metadata": {
    "scrolled": true
   },
   "outputs": [
    {
     "data": {
      "text/html": [
       "<div>\n",
       "<style scoped>\n",
       "    .dataframe tbody tr th:only-of-type {\n",
       "        vertical-align: middle;\n",
       "    }\n",
       "\n",
       "    .dataframe tbody tr th {\n",
       "        vertical-align: top;\n",
       "    }\n",
       "\n",
       "    .dataframe thead th {\n",
       "        text-align: right;\n",
       "    }\n",
       "</style>\n",
       "<table border=\"1\" class=\"dataframe\">\n",
       "  <thead>\n",
       "    <tr style=\"text-align: right;\">\n",
       "      <th></th>\n",
       "      <th>index</th>\n",
       "      <th>country</th>\n",
       "    </tr>\n",
       "  </thead>\n",
       "  <tbody>\n",
       "    <tr>\n",
       "      <th>0</th>\n",
       "      <td>United States</td>\n",
       "      <td>2348</td>\n",
       "    </tr>\n",
       "    <tr>\n",
       "      <th>1</th>\n",
       "      <td>India</td>\n",
       "      <td>915</td>\n",
       "    </tr>\n",
       "    <tr>\n",
       "      <th>2</th>\n",
       "      <td>United Kingdom</td>\n",
       "      <td>461</td>\n",
       "    </tr>\n",
       "    <tr>\n",
       "      <th>3</th>\n",
       "      <td>Canada</td>\n",
       "      <td>281</td>\n",
       "    </tr>\n",
       "    <tr>\n",
       "      <th>4</th>\n",
       "      <td>France</td>\n",
       "      <td>258</td>\n",
       "    </tr>\n",
       "    <tr>\n",
       "      <th>5</th>\n",
       "      <td>Spain</td>\n",
       "      <td>157</td>\n",
       "    </tr>\n",
       "    <tr>\n",
       "      <th>6</th>\n",
       "      <td>Germany</td>\n",
       "      <td>156</td>\n",
       "    </tr>\n",
       "    <tr>\n",
       "      <th>7</th>\n",
       "      <td>Japan</td>\n",
       "      <td>103</td>\n",
       "    </tr>\n",
       "    <tr>\n",
       "      <th>8</th>\n",
       "      <td>China</td>\n",
       "      <td>102</td>\n",
       "    </tr>\n",
       "    <tr>\n",
       "      <th>9</th>\n",
       "      <td>Mexico</td>\n",
       "      <td>98</td>\n",
       "    </tr>\n",
       "  </tbody>\n",
       "</table>\n",
       "</div>"
      ],
      "text/plain": [
       "            index  country\n",
       "0   United States     2348\n",
       "1           India      915\n",
       "2  United Kingdom      461\n",
       "3          Canada      281\n",
       "4          France      258\n",
       "5           Spain      157\n",
       "6         Germany      156\n",
       "7           Japan      103\n",
       "8           China      102\n",
       "9          Mexico       98"
      ]
     },
     "execution_count": 22,
     "metadata": {},
     "output_type": "execute_result"
    }
   ],
   "source": [
    "# all recent countries\n",
    "all_recent_countries_movies = recent_movies.copy()\n",
    "\n",
    "# split the strings into lists\n",
    "all_recent_countries_movies['country'] = all_recent_countries_movies['country'].str.split(', ')\n",
    "\n",
    "# explode the lists\n",
    "all_recent_countries_movies = all_recent_countries_movies.explode('country').reset_index(drop=True)\n",
    "\n",
    "# dataframe fro recent shows with all countries\n",
    "rec_sep_country_movies_df = pd.DataFrame(all_recent_countries_movies['country'].value_counts()).reset_index()\n",
    "rec_sep_country_movies_df.head(10)"
   ]
  },
  {
   "cell_type": "markdown",
   "metadata": {},
   "source": [
    "# TV Shows"
   ]
  },
  {
   "cell_type": "code",
   "execution_count": 23,
   "metadata": {
    "scrolled": false
   },
   "outputs": [
    {
     "data": {
      "text/html": [
       "<div>\n",
       "<style scoped>\n",
       "    .dataframe tbody tr th:only-of-type {\n",
       "        vertical-align: middle;\n",
       "    }\n",
       "\n",
       "    .dataframe tbody tr th {\n",
       "        vertical-align: top;\n",
       "    }\n",
       "\n",
       "    .dataframe thead th {\n",
       "        text-align: right;\n",
       "    }\n",
       "</style>\n",
       "<table border=\"1\" class=\"dataframe\">\n",
       "  <thead>\n",
       "    <tr style=\"text-align: right;\">\n",
       "      <th></th>\n",
       "      <th>index</th>\n",
       "      <th>country</th>\n",
       "    </tr>\n",
       "  </thead>\n",
       "  <tbody>\n",
       "    <tr>\n",
       "      <th>0</th>\n",
       "      <td>United States</td>\n",
       "      <td>830</td>\n",
       "    </tr>\n",
       "    <tr>\n",
       "      <th>1</th>\n",
       "      <td>United Kingdom</td>\n",
       "      <td>249</td>\n",
       "    </tr>\n",
       "    <tr>\n",
       "      <th>2</th>\n",
       "      <td>Japan</td>\n",
       "      <td>182</td>\n",
       "    </tr>\n",
       "    <tr>\n",
       "      <th>3</th>\n",
       "      <td>South Korea</td>\n",
       "      <td>157</td>\n",
       "    </tr>\n",
       "    <tr>\n",
       "      <th>4</th>\n",
       "      <td>Canada</td>\n",
       "      <td>118</td>\n",
       "    </tr>\n",
       "    <tr>\n",
       "      <th>5</th>\n",
       "      <td>France</td>\n",
       "      <td>81</td>\n",
       "    </tr>\n",
       "    <tr>\n",
       "      <th>6</th>\n",
       "      <td>India</td>\n",
       "      <td>75</td>\n",
       "    </tr>\n",
       "    <tr>\n",
       "      <th>7</th>\n",
       "      <td>Taiwan</td>\n",
       "      <td>70</td>\n",
       "    </tr>\n",
       "    <tr>\n",
       "      <th>8</th>\n",
       "      <td>Australia</td>\n",
       "      <td>57</td>\n",
       "    </tr>\n",
       "    <tr>\n",
       "      <th>9</th>\n",
       "      <td>Spain</td>\n",
       "      <td>57</td>\n",
       "    </tr>\n",
       "  </tbody>\n",
       "</table>\n",
       "</div>"
      ],
      "text/plain": [
       "            index  country\n",
       "0   United States      830\n",
       "1  United Kingdom      249\n",
       "2           Japan      182\n",
       "3     South Korea      157\n",
       "4          Canada      118\n",
       "5          France       81\n",
       "6           India       75\n",
       "7          Taiwan       70\n",
       "8       Australia       57\n",
       "9           Spain       57"
      ]
     },
     "execution_count": 23,
     "metadata": {},
     "output_type": "execute_result"
    }
   ],
   "source": [
    "# all recent countries\n",
    "all_recent_countries_tv_shows = recent_tv_shows.copy()\n",
    "\n",
    "# split the strings into lists\n",
    "all_recent_countries_tv_shows['country'] = all_recent_countries_tv_shows['country'].str.split(', ')\n",
    "\n",
    "# explode the lists\n",
    "all_recent_countries_tv_shows = all_recent_countries_tv_shows.explode('country').reset_index(drop=True)\n",
    "\n",
    "# dataframe fro recent shows with all countries\n",
    "rec_sep_country_tv_shows_df = pd.DataFrame(all_recent_countries_tv_shows['country'].value_counts()).reset_index()\n",
    "rec_sep_country_tv_shows_df.head(10)"
   ]
  },
  {
   "cell_type": "markdown",
   "metadata": {},
   "source": [
    "# Country and Movies vs. TV Shows\n",
    "\n",
    "It looks like most movies are produced in the top 5 countries as all shows. However, for TV shows, we notice different trends; the US, UK, South Korea, and Japan seem to dominate the market.\n",
    "\n",
    "This tells us that Zuckflix would need to implement different strategies for movies and TV shows in order to be most successful in this venture."
   ]
  },
  {
   "cell_type": "markdown",
   "metadata": {},
   "source": [
    "# Exploring the most popular genres\n",
    "\n",
    "# Movies\n",
    "\n",
    "International movies seem to be most popular, followed by dramas, comedies, documentaries, and independent movies.\n",
    "\n",
    "# TV Shows\n",
    "\n",
    "Similar trends with the movies can be observed for the top 3 genres: International TV shows, TV Dramas, TV comedies are most popular. They are followed by crime TV shows and Kids TV.\n",
    "\n",
    "Although the trends might not be very pronounced (especially for TV shows), analysis suggest that international, drama, and comedy are most popular accross both movies and TV shows. Zuckflix should, therefore, first focus on these.\n",
    "\n",
    "If Zuckflix becomes successful in the long run (at least 1 or 2 years), it could expand into other genres."
   ]
  },
  {
   "cell_type": "markdown",
   "metadata": {},
   "source": [
    "# Code for previous conclusions\n",
    "\n",
    "First are the movies, and second are the TV shows."
   ]
  },
  {
   "cell_type": "code",
   "execution_count": 24,
   "metadata": {},
   "outputs": [
    {
     "data": {
      "text/plain": [
       "Text(0, 0.5, 'No. of Movies')"
      ]
     },
     "execution_count": 24,
     "metadata": {},
     "output_type": "execute_result"
    },
    {
     "data": {
      "image/png": "[encoded data removed]",
      "text/plain": [
       "<Figure size 720x288 with 1 Axes>"
      ]
     },
     "metadata": {},
     "output_type": "display_data"
    }
   ],
   "source": [
    "# copying the dataframe\n",
    "all_movies_genres = recent_movies.copy()\n",
    "\n",
    "# split the strings into lists\n",
    "all_movies_genres['listed_in'] = all_movies_genres['listed_in'].str.split(', ')\n",
    "\n",
    "# explode the lists\n",
    "all_movies_genres = all_movies_genres.explode('listed_in').reset_index(drop=True)\n",
    "\n",
    "# dataframe fro recent shows with all countries\n",
    "movies_genres_df = pd.DataFrame(all_movies_genres['listed_in'].value_counts()).reset_index()\n",
    "#movies_genres_df.head()\n",
    "ax = movies_genres_df.head().plot.bar(x='index', y='listed_in', title='Genre Trends', rot=0, figsize=(10,4), color='#ffab40', legend=False)\n",
    "ax.set_xlabel('Movie Genres')\n",
    "ax.set_ylabel('No. of Movies')"
   ]
  },
  {
   "cell_type": "code",
   "execution_count": 25,
   "metadata": {
    "scrolled": true
   },
   "outputs": [
    {
     "data": {
      "text/plain": [
       "Text(0, 0.5, 'No. of TV Shows')"
      ]
     },
     "execution_count": 25,
     "metadata": {},
     "output_type": "execute_result"
    },
    {
     "data": {
      "image/png": "[encoded data removed]",
      "text/plain": [
       "<Figure size 720x288 with 1 Axes>"
      ]
     },
     "metadata": {},
     "output_type": "display_data"
    }
   ],
   "source": [
    "# copying the dataframe\n",
    "all_tv_shows_genres = recent_tv_shows.copy()\n",
    "\n",
    "# split the strings into lists\n",
    "all_tv_shows_genres['listed_in'] = all_tv_shows_genres['listed_in'].str.split(', ')\n",
    "\n",
    "# explode the lists\n",
    "all_tv_shows_genres = all_tv_shows_genres.explode('listed_in').reset_index(drop=True)\n",
    "\n",
    "# dataframe fro recent shows with all countries\n",
    "tv_shows_genres_df = pd.DataFrame(all_tv_shows_genres['listed_in'].value_counts()).reset_index()\n",
    "#tv_shows_genres_df.head()\n",
    "ax = tv_shows_genres_df.head().plot.bar(x='index', y='listed_in', title='Genre Trends', rot=0, figsize=(10,4), color='#ffab40', legend=False)\n",
    "ax.set_xlabel('TV Show Genres')\n",
    "ax.set_ylabel('No. of TV Shows')"
   ]
  },
  {
   "cell_type": "markdown",
   "metadata": {},
   "source": [
    "# Analysis of trends in a specific country: France"
   ]
  },
  {
   "cell_type": "markdown",
   "metadata": {},
   "source": [
    "# Overall Findings\n",
    "\n",
    "Content entirely produced in France is almost equal to content partially produced in France. 115 exclusively produced in France and 349 produced fully or in part in France.\n",
    "\n",
    "# Over the last 5 years\n",
    "\n",
    "Content exclusively produced in France is almost a 3rd of all content produced (fully or partially) in France. This shows a decline in content exclusively produced in France."
   ]
  },
  {
   "cell_type": "code",
   "execution_count": 26,
   "metadata": {},
   "outputs": [],
   "source": [
    "# france content (fully or partially)\n",
    "france_content = netflix_titles[netflix_titles['country'] == 'France']\n",
    "all_france_content = all_countries[all_countries['country'] == 'France']"
   ]
  },
  {
   "cell_type": "code",
   "execution_count": 27,
   "metadata": {},
   "outputs": [
    {
     "data": {
      "text/html": [
       "<div>\n",
       "<style scoped>\n",
       "    .dataframe tbody tr th:only-of-type {\n",
       "        vertical-align: middle;\n",
       "    }\n",
       "\n",
       "    .dataframe tbody tr th {\n",
       "        vertical-align: top;\n",
       "    }\n",
       "\n",
       "    .dataframe thead th {\n",
       "        text-align: right;\n",
       "    }\n",
       "</style>\n",
       "<table border=\"1\" class=\"dataframe\">\n",
       "  <thead>\n",
       "    <tr style=\"text-align: right;\">\n",
       "      <th></th>\n",
       "      <th>show_id</th>\n",
       "      <th>type</th>\n",
       "      <th>title</th>\n",
       "      <th>director</th>\n",
       "      <th>cast</th>\n",
       "      <th>country</th>\n",
       "      <th>date_added</th>\n",
       "      <th>release_year</th>\n",
       "      <th>rating</th>\n",
       "      <th>duration</th>\n",
       "      <th>listed_in</th>\n",
       "      <th>description</th>\n",
       "      <th>year_added</th>\n",
       "    </tr>\n",
       "  </thead>\n",
       "  <tbody>\n",
       "    <tr>\n",
       "      <th>53</th>\n",
       "      <td>s50</td>\n",
       "      <td>Movie</td>\n",
       "      <td>10 jours en or</td>\n",
       "      <td>Nicolas Brossette</td>\n",
       "      <td>Franck Dubosc, Claude Rich, Marie Kremer, Math...</td>\n",
       "      <td>France</td>\n",
       "      <td>2017-07-01</td>\n",
       "      <td>2012</td>\n",
       "      <td>TV-14</td>\n",
       "      <td>97 min</td>\n",
       "      <td>Comedies, Dramas, International Movies</td>\n",
       "      <td>When a carefree bachelor is unexpectedly left ...</td>\n",
       "      <td>2017</td>\n",
       "    </tr>\n",
       "    <tr>\n",
       "      <th>86</th>\n",
       "      <td>s78</td>\n",
       "      <td>Movie</td>\n",
       "      <td>2 Alone in Paris</td>\n",
       "      <td>Ramzy Bedia, Éric Judor</td>\n",
       "      <td>Ramzy Bedia, Éric Judor, Benoît Magimel, Krist...</td>\n",
       "      <td>France</td>\n",
       "      <td>2020-06-01</td>\n",
       "      <td>2008</td>\n",
       "      <td>TV-MA</td>\n",
       "      <td>97 min</td>\n",
       "      <td>Comedies, International Movies</td>\n",
       "      <td>A bumbling Paris policeman is doggedly determi...</td>\n",
       "      <td>2020</td>\n",
       "    </tr>\n",
       "    <tr>\n",
       "      <th>108</th>\n",
       "      <td>s97</td>\n",
       "      <td>Movie</td>\n",
       "      <td>3 Days to Kill</td>\n",
       "      <td>McG</td>\n",
       "      <td>Kevin Costner, Amber Heard, Hailee Steinfeld, ...</td>\n",
       "      <td>France</td>\n",
       "      <td>2020-12-01</td>\n",
       "      <td>2014</td>\n",
       "      <td>PG-13</td>\n",
       "      <td>117 min</td>\n",
       "      <td>Action &amp; Adventure</td>\n",
       "      <td>A terminally ill secret agent accepts a risky ...</td>\n",
       "      <td>2020</td>\n",
       "    </tr>\n",
       "    <tr>\n",
       "      <th>119</th>\n",
       "      <td>s106</td>\n",
       "      <td>Movie</td>\n",
       "      <td>300 Miles to Heaven</td>\n",
       "      <td>Maciej Dejczer</td>\n",
       "      <td>Krzysztof Stroiński, Andrzej Mellin, Adrianna ...</td>\n",
       "      <td>France</td>\n",
       "      <td>2019-10-01</td>\n",
       "      <td>1989</td>\n",
       "      <td>TV-14</td>\n",
       "      <td>93 min</td>\n",
       "      <td>Dramas, International Movies</td>\n",
       "      <td>Hoping to help their dissident parents, two br...</td>\n",
       "      <td>2019</td>\n",
       "    </tr>\n",
       "    <tr>\n",
       "      <th>182</th>\n",
       "      <td>s163</td>\n",
       "      <td>Movie</td>\n",
       "      <td>A Christmas Special: Miraculous: Tales of Lady...</td>\n",
       "      <td>Thomas Astruc</td>\n",
       "      <td>Cristina Vee, Bryce Papenbrook, Keith Silverst...</td>\n",
       "      <td>France</td>\n",
       "      <td>2016-12-20</td>\n",
       "      <td>2016</td>\n",
       "      <td>TV-Y7</td>\n",
       "      <td>22 min</td>\n",
       "      <td>Movies</td>\n",
       "      <td>Parisian teen Marinette transforms herself int...</td>\n",
       "      <td>2016</td>\n",
       "    </tr>\n",
       "    <tr>\n",
       "      <th>...</th>\n",
       "      <td>...</td>\n",
       "      <td>...</td>\n",
       "      <td>...</td>\n",
       "      <td>...</td>\n",
       "      <td>...</td>\n",
       "      <td>...</td>\n",
       "      <td>...</td>\n",
       "      <td>...</td>\n",
       "      <td>...</td>\n",
       "      <td>...</td>\n",
       "      <td>...</td>\n",
       "      <td>...</td>\n",
       "      <td>...</td>\n",
       "    </tr>\n",
       "    <tr>\n",
       "      <th>9194</th>\n",
       "      <td>s7634</td>\n",
       "      <td>Movie</td>\n",
       "      <td>Winnie</td>\n",
       "      <td>Pascale Lamche</td>\n",
       "      <td>NaN</td>\n",
       "      <td>France</td>\n",
       "      <td>2018-02-26</td>\n",
       "      <td>2017</td>\n",
       "      <td>TV-14</td>\n",
       "      <td>85 min</td>\n",
       "      <td>Documentaries, International Movies</td>\n",
       "      <td>Winnie Mandela speaks about her extraordinary ...</td>\n",
       "      <td>2018</td>\n",
       "    </tr>\n",
       "    <tr>\n",
       "      <th>9316</th>\n",
       "      <td>s7743</td>\n",
       "      <td>Movie</td>\n",
       "      <td>Your Son</td>\n",
       "      <td>Miguel Ángel Vivas</td>\n",
       "      <td>José Coronado, Ana Wagener, Asia Ortega, Pol M...</td>\n",
       "      <td>France</td>\n",
       "      <td>2019-03-01</td>\n",
       "      <td>2018</td>\n",
       "      <td>TV-MA</td>\n",
       "      <td>103 min</td>\n",
       "      <td>Dramas, International Movies, Thrillers</td>\n",
       "      <td>After his son is brutally beaten outside a nig...</td>\n",
       "      <td>2019</td>\n",
       "    </tr>\n",
       "    <tr>\n",
       "      <th>9322</th>\n",
       "      <td>s7748</td>\n",
       "      <td>Movie</td>\n",
       "      <td>اشتباك</td>\n",
       "      <td>Mohamed Diab</td>\n",
       "      <td>Nelly Karim, Hany Adel, Tarek Abdel Aziz, Ahme...</td>\n",
       "      <td>France</td>\n",
       "      <td>2018-10-11</td>\n",
       "      <td>2016</td>\n",
       "      <td>TV-14</td>\n",
       "      <td>98 min</td>\n",
       "      <td>Dramas, Independent Movies, International Movies</td>\n",
       "      <td>Amid the tumult following Egyptian President M...</td>\n",
       "      <td>2018</td>\n",
       "    </tr>\n",
       "    <tr>\n",
       "      <th>9336</th>\n",
       "      <td>s7760</td>\n",
       "      <td>TV Show</td>\n",
       "      <td>Zak Storm</td>\n",
       "      <td>NaN</td>\n",
       "      <td>Michael Johnston, Jessica Gee-George, Christin...</td>\n",
       "      <td>France</td>\n",
       "      <td>2018-09-13</td>\n",
       "      <td>2016</td>\n",
       "      <td>TV-Y7</td>\n",
       "      <td>3 Seasons</td>\n",
       "      <td>Kids' TV</td>\n",
       "      <td>Teen surfer Zak Storm is mysteriously transpor...</td>\n",
       "      <td>2018</td>\n",
       "    </tr>\n",
       "    <tr>\n",
       "      <th>9346</th>\n",
       "      <td>s7767</td>\n",
       "      <td>TV Show</td>\n",
       "      <td>Zig &amp; Sharko</td>\n",
       "      <td>NaN</td>\n",
       "      <td>NaN</td>\n",
       "      <td>France</td>\n",
       "      <td>2017-12-01</td>\n",
       "      <td>2016</td>\n",
       "      <td>TV-Y7</td>\n",
       "      <td>1 Season</td>\n",
       "      <td>Kids' TV, TV Comedies</td>\n",
       "      <td>Zig, an island-bound hyena, will do anything t...</td>\n",
       "      <td>2017</td>\n",
       "    </tr>\n",
       "  </tbody>\n",
       "</table>\n",
       "<p>339 rows × 13 columns</p>\n",
       "</div>"
      ],
      "text/plain": [
       "     show_id     type                                              title  \\\n",
       "53       s50    Movie                                     10 jours en or   \n",
       "86       s78    Movie                                   2 Alone in Paris   \n",
       "108      s97    Movie                                     3 Days to Kill   \n",
       "119     s106    Movie                                300 Miles to Heaven   \n",
       "182     s163    Movie  A Christmas Special: Miraculous: Tales of Lady...   \n",
       "...      ...      ...                                                ...   \n",
       "9194   s7634    Movie                                             Winnie   \n",
       "9316   s7743    Movie                                           Your Son   \n",
       "9322   s7748    Movie                                             اشتباك   \n",
       "9336   s7760  TV Show                                          Zak Storm   \n",
       "9346   s7767  TV Show                                       Zig & Sharko   \n",
       "\n",
       "                     director  \\\n",
       "53          Nicolas Brossette   \n",
       "86    Ramzy Bedia, Éric Judor   \n",
       "108                       McG   \n",
       "119            Maciej Dejczer   \n",
       "182             Thomas Astruc   \n",
       "...                       ...   \n",
       "9194           Pascale Lamche   \n",
       "9316       Miguel Ángel Vivas   \n",
       "9322             Mohamed Diab   \n",
       "9336                      NaN   \n",
       "9346                      NaN   \n",
       "\n",
       "                                                   cast country date_added  \\\n",
       "53    Franck Dubosc, Claude Rich, Marie Kremer, Math...  France 2017-07-01   \n",
       "86    Ramzy Bedia, Éric Judor, Benoît Magimel, Krist...  France 2020-06-01   \n",
       "108   Kevin Costner, Amber Heard, Hailee Steinfeld, ...  France 2020-12-01   \n",
       "119   Krzysztof Stroiński, Andrzej Mellin, Adrianna ...  France 2019-10-01   \n",
       "182   Cristina Vee, Bryce Papenbrook, Keith Silverst...  France 2016-12-20   \n",
       "...                                                 ...     ...        ...   \n",
       "9194                                                NaN  France 2018-02-26   \n",
       "9316  José Coronado, Ana Wagener, Asia Ortega, Pol M...  France 2019-03-01   \n",
       "9322  Nelly Karim, Hany Adel, Tarek Abdel Aziz, Ahme...  France 2018-10-11   \n",
       "9336  Michael Johnston, Jessica Gee-George, Christin...  France 2018-09-13   \n",
       "9346                                                NaN  France 2017-12-01   \n",
       "\n",
       "      release_year rating   duration  \\\n",
       "53            2012  TV-14     97 min   \n",
       "86            2008  TV-MA     97 min   \n",
       "108           2014  PG-13    117 min   \n",
       "119           1989  TV-14     93 min   \n",
       "182           2016  TV-Y7     22 min   \n",
       "...            ...    ...        ...   \n",
       "9194          2017  TV-14     85 min   \n",
       "9316          2018  TV-MA    103 min   \n",
       "9322          2016  TV-14     98 min   \n",
       "9336          2016  TV-Y7  3 Seasons   \n",
       "9346          2016  TV-Y7   1 Season   \n",
       "\n",
       "                                             listed_in  \\\n",
       "53              Comedies, Dramas, International Movies   \n",
       "86                      Comedies, International Movies   \n",
       "108                                 Action & Adventure   \n",
       "119                       Dramas, International Movies   \n",
       "182                                             Movies   \n",
       "...                                                ...   \n",
       "9194               Documentaries, International Movies   \n",
       "9316           Dramas, International Movies, Thrillers   \n",
       "9322  Dramas, Independent Movies, International Movies   \n",
       "9336                                          Kids' TV   \n",
       "9346                             Kids' TV, TV Comedies   \n",
       "\n",
       "                                            description  year_added  \n",
       "53    When a carefree bachelor is unexpectedly left ...        2017  \n",
       "86    A bumbling Paris policeman is doggedly determi...        2020  \n",
       "108   A terminally ill secret agent accepts a risky ...        2020  \n",
       "119   Hoping to help their dissident parents, two br...        2019  \n",
       "182   Parisian teen Marinette transforms herself int...        2016  \n",
       "...                                                 ...         ...  \n",
       "9194  Winnie Mandela speaks about her extraordinary ...        2018  \n",
       "9316  After his son is brutally beaten outside a nig...        2019  \n",
       "9322  Amid the tumult following Egyptian President M...        2018  \n",
       "9336  Teen surfer Zak Storm is mysteriously transpor...        2018  \n",
       "9346  Zig, an island-bound hyena, will do anything t...        2017  \n",
       "\n",
       "[339 rows x 13 columns]"
      ]
     },
     "execution_count": 27,
     "metadata": {},
     "output_type": "execute_result"
    }
   ],
   "source": [
    "rec_france_content = recent_shows[recent_shows['country'] == 'France']\n",
    "all_rec_france_content = all_recent_countries[all_recent_countries['country'] == 'France']\n",
    "all_rec_france_content"
   ]
  },
  {
   "cell_type": "code",
   "execution_count": 28,
   "metadata": {},
   "outputs": [],
   "source": [
    "# all_rec_france_content_trends = all_rec_france_content.groupby('release_year').count()\n",
    "# all_rec_france_content_trends.plot.bar(figsize=(6,4))"
   ]
  },
  {
   "cell_type": "markdown",
   "metadata": {},
   "source": [
    "# France Movies vs. TV Shows\n",
    "\n",
    "We have 146 movies and 59 TV shows; which suggests the popularity of movies more than TV shows.\n",
    "However, if we consider trends over the last 5 years, we notice a significant decrease in the number of movies produced while we can observe a more or less relative increase in the number of TV show offerings.\n",
    "\n",
    "# Note:\n",
    "An interesting observation is that there was no show released yet in 2021 at the time this dataset was made available on Kaggle."
   ]
  },
  {
   "cell_type": "code",
   "execution_count": 29,
   "metadata": {
    "scrolled": true
   },
   "outputs": [
    {
     "data": {
      "text/plain": [
       "258"
      ]
     },
     "execution_count": 29,
     "metadata": {},
     "output_type": "execute_result"
    }
   ],
   "source": [
    "all_rec_france_movies = all_rec_france_content[all_rec_france_content['type'] == 'Movie']\n",
    "all_rec_france_movies.count()[0]"
   ]
  },
  {
   "cell_type": "code",
   "execution_count": 30,
   "metadata": {},
   "outputs": [
    {
     "data": {
      "text/plain": [
       "<matplotlib.axes._subplots.AxesSubplot at 0x7f07052726a0>"
      ]
     },
     "execution_count": 30,
     "metadata": {},
     "output_type": "execute_result"
    },
    {
     "data": {
      "image/png": "[encoded data removed]",
      "text/plain": [
       "<Figure size 432x288 with 1 Axes>"
      ]
     },
     "metadata": {},
     "output_type": "display_data"
    }
   ],
   "source": [
    "all_rec_france_movies = all_rec_france_content[all_rec_france_content['type'] == 'Movie']\n",
    "all_rec_france_movies_trends = all_rec_france_movies.groupby('year_added')['type'].count()\n",
    "all_rec_france_movies_trends.plot.bar(figsize=(6,4))"
   ]
  },
  {
   "cell_type": "code",
   "execution_count": 31,
   "metadata": {
    "scrolled": true
   },
   "outputs": [
    {
     "data": {
      "text/plain": [
       "<matplotlib.axes._subplots.AxesSubplot at 0x7f0705244518>"
      ]
     },
     "execution_count": 31,
     "metadata": {},
     "output_type": "execute_result"
    },
    {
     "data": {
      "image/png": "[encoded data removed]",
      "text/plain": [
       "<Figure size 432x288 with 1 Axes>"
      ]
     },
     "metadata": {},
     "output_type": "display_data"
    }
   ],
   "source": [
    "all_rec_france_tv_shows = all_rec_france_content[all_rec_france_content['type'] == 'TV Show']\n",
    "all_rec_france_tv_shows_trends = all_rec_france_tv_shows.groupby('year_added')['type'].count()\n",
    "all_rec_france_tv_shows_trends.plot.bar(figsize=(6,4))"
   ]
  },
  {
   "cell_type": "markdown",
   "metadata": {},
   "source": [
    "# France Content Ratings\n",
    "\n",
    "For movies, content rated TV-MA is largely more popular, followed by TV-14 and R rated content.\n",
    "\n",
    "For TV shows, content rated TV-MA is largely more popular compared to the other 4 ratings (TV-Y, TV-Y7, TV-PG, and TV-14).\n",
    "\n",
    "# Recommendation\n",
    "\n",
    "Although there is a decrease in TV-MA in 2020 compared to 2019, I would recommend Zuckflix to focus on content rated TV-MA. That decrease could potentially be explained by the slow down of show production in 2020 (due to Covid-19)."
   ]
  },
  {
   "cell_type": "code",
   "execution_count": 42,
   "metadata": {},
   "outputs": [
    {
     "data": {
      "image/png": "[encoded data removed]",
      "text/plain": [
       "<Figure size 432x288 with 1 Axes>"
      ]
     },
     "metadata": {},
     "output_type": "display_data"
    }
   ],
   "source": [
    "france_movies_rating = pd.DataFrame(all_rec_france_movies['rating'].value_counts()).reset_index()\n",
    "frax1 = france_movies_rating.head().plot.bar(x='index', y='rating', rot=0, figsize=(6,4))"
   ]
  },
  {
   "cell_type": "code",
   "execution_count": 43,
   "metadata": {},
   "outputs": [
    {
     "data": {
      "image/png": "[encoded data removed]",
      "text/plain": [
       "<Figure size 432x288 with 1 Axes>"
      ]
     },
     "metadata": {},
     "output_type": "display_data"
    }
   ],
   "source": [
    "france_tv_shows_rating = pd.DataFrame(all_rec_france_tv_shows['rating'].value_counts()).reset_index()\n",
    "frax2 = france_tv_shows_rating.head().plot.bar(x='index', y='rating', rot=0, figsize=(6,4))"
   ]
  },
  {
   "cell_type": "code",
   "execution_count": 66,
   "metadata": {},
   "outputs": [
    {
     "data": {
      "text/plain": [
       "Text(0, 0.5, 'No. of Movies')"
      ]
     },
     "execution_count": 66,
     "metadata": {},
     "output_type": "execute_result"
    },
    {
     "data": {
      "image/png": "[encoded data removed]",
      "text/plain": [
       "<Figure size 432x288 with 1 Axes>"
      ]
     },
     "metadata": {},
     "output_type": "display_data"
    }
   ],
   "source": [
    "#france_ratings_overall = all_rec_france_content[all_rec_france_content['rating'] == 'TV-MA']\n",
    "#france_overall_ratings_trends = france_ratings_overall.groupby('year_added')['rating'].count()\n",
    "# ratings trends over time (similar process for movies and tv shows)\n",
    "france_movie_ratings = all_rec_france_movies[all_rec_france_movies['rating'] == 'TV-PG']\n",
    "france_movie_ratings_trends = france_movie_ratings.groupby('year_added')['rating'].count()\n",
    "#movie_ratings_trends.plot.bar(figsize=(6,4))\n",
    "france_movie_ratings_trends_plot = france_movie_ratings_trends.plot.bar(title='TV-Y Movies over Time in France', figsize=(6,4), rot=0, color='#ffab40')\n",
    "france_movie_ratings_trends_plot.set_xlabel('Year of Addition to Netflix')\n",
    "france_movie_ratings_trends_plot.set_ylabel('No. of Movies')"
   ]
  },
  {
   "cell_type": "code",
   "execution_count": 63,
   "metadata": {},
   "outputs": [
    {
     "data": {
      "text/plain": [
       "Text(0, 0.5, 'No. of TV Shows')"
      ]
     },
     "execution_count": 63,
     "metadata": {},
     "output_type": "execute_result"
    },
    {
     "data": {
      "image/png": "[encoded data removed]",
      "text/plain": [
       "<Figure size 432x288 with 1 Axes>"
      ]
     },
     "metadata": {},
     "output_type": "display_data"
    }
   ],
   "source": [
    "#france_ratings_overall = all_rec_france_content[all_rec_france_content['rating'] == 'TV-MA']\n",
    "#france_overall_ratings_trends = france_ratings_overall.groupby('year_added')['rating'].count()\n",
    "# ratings trends over time (similar process for movies and tv shows)\n",
    "france_tv_shows_ratings = all_rec_france_tv_shows[all_rec_france_tv_shows['rating'] == 'TV-MA']\n",
    "france_tv_shows_ratings_trends = france_tv_shows_ratings.groupby('year_added')['rating'].count()\n",
    "#movie_ratings_trends.plot.bar(figsize=(6,4))\n",
    "france_tv_shows_ratings_trends_plot = france_tv_shows_ratings_trends.plot.bar(title='TV-Y TV Shows over Time in France', figsize=(6,4), rot=0, color='#ffab40')\n",
    "france_tv_shows_ratings_trends_plot.set_xlabel('Year of Addition to Netflix')\n",
    "france_tv_shows_ratings_trends_plot.set_ylabel('No. of TV Shows')"
   ]
  },
  {
   "cell_type": "markdown",
   "metadata": {},
   "source": [
    "#  Duration Trends for France\n",
    "\n",
    "Same trends for tv shows; mostly 1 season, followed by 2 or 3 seasons for top 3.\n",
    "\n",
    "Most movies seem to last between 80 and 100 minutes (roughly 1 hour 20 minutes and 1 hour 40 minutes).\n",
    "\n",
    "# Recommendation\n",
    "\n",
    "Focus on content of that length."
   ]
  },
  {
   "cell_type": "code",
   "execution_count": 35,
   "metadata": {},
   "outputs": [
    {
     "name": "stderr",
     "output_type": "stream",
     "text": [
      "/usr/local/lib/python3.6/dist-packages/pandas/core/indexing.py:1743: SettingWithCopyWarning: \n",
      "A value is trying to be set on a copy of a slice from a DataFrame.\n",
      "Try using .loc[row_indexer,col_indexer] = value instead\n",
      "\n",
      "See the caveats in the documentation: https://pandas.pydata.org/pandas-docs/stable/user_guide/indexing.html#returning-a-view-versus-a-copy\n",
      "  isetter(ilocs[0], value)\n"
     ]
    },
    {
     "data": {
      "text/html": [
       "<div>\n",
       "<style scoped>\n",
       "    .dataframe tbody tr th:only-of-type {\n",
       "        vertical-align: middle;\n",
       "    }\n",
       "\n",
       "    .dataframe tbody tr th {\n",
       "        vertical-align: top;\n",
       "    }\n",
       "\n",
       "    .dataframe thead th {\n",
       "        text-align: right;\n",
       "    }\n",
       "</style>\n",
       "<table border=\"1\" class=\"dataframe\">\n",
       "  <thead>\n",
       "    <tr style=\"text-align: right;\">\n",
       "      <th></th>\n",
       "      <th>show_id</th>\n",
       "      <th>type</th>\n",
       "      <th>title</th>\n",
       "      <th>director</th>\n",
       "      <th>cast</th>\n",
       "      <th>country</th>\n",
       "      <th>date_added</th>\n",
       "      <th>release_year</th>\n",
       "      <th>rating</th>\n",
       "      <th>duration</th>\n",
       "      <th>listed_in</th>\n",
       "      <th>description</th>\n",
       "      <th>year_added</th>\n",
       "    </tr>\n",
       "  </thead>\n",
       "  <tbody>\n",
       "    <tr>\n",
       "      <th>296</th>\n",
       "      <td>s249</td>\n",
       "      <td>TV Show</td>\n",
       "      <td>A Very Secret Service</td>\n",
       "      <td>NaN</td>\n",
       "      <td>Hugo Becker, Wilfred Benaïche, Christophe Kour...</td>\n",
       "      <td>France</td>\n",
       "      <td>2018-07-30</td>\n",
       "      <td>2018</td>\n",
       "      <td>TV-MA</td>\n",
       "      <td>2</td>\n",
       "      <td>International TV Shows, TV Comedies</td>\n",
       "      <td>At the height of the Cold War in 1960, André M...</td>\n",
       "      <td>2018</td>\n",
       "    </tr>\n",
       "  </tbody>\n",
       "</table>\n",
       "</div>"
      ],
      "text/plain": [
       "    show_id     type                  title director  \\\n",
       "296    s249  TV Show  A Very Secret Service      NaN   \n",
       "\n",
       "                                                  cast country date_added  \\\n",
       "296  Hugo Becker, Wilfred Benaïche, Christophe Kour...  France 2018-07-30   \n",
       "\n",
       "     release_year rating duration                            listed_in  \\\n",
       "296          2018  TV-MA        2  International TV Shows, TV Comedies   \n",
       "\n",
       "                                           description  year_added  \n",
       "296  At the height of the Cold War in 1960, André M...        2018  "
      ]
     },
     "execution_count": 35,
     "metadata": {},
     "output_type": "execute_result"
    }
   ],
   "source": [
    "all_rec_france_tv_shows.loc[:, 'duration'] = all_rec_france_tv_shows['duration'].str.replace(' Season', '').str.replace('s', '')\n",
    "all_rec_france_tv_shows.head(1)"
   ]
  },
  {
   "cell_type": "code",
   "execution_count": 67,
   "metadata": {},
   "outputs": [
    {
     "data": {
      "image/png": "[encoded data removed]",
      "text/plain": [
       "<Figure size 432x288 with 1 Axes>"
      ]
     },
     "metadata": {},
     "output_type": "display_data"
    }
   ],
   "source": [
    "all_rec_france_tv_shows_duration = pd.DataFrame(all_rec_france_tv_shows['duration'].value_counts()).reset_index()\n",
    "all_rec_france_tv_shows_duration.rename(columns={\"index\": \"duration (in seasons)\", \"duration\": \"num of tv shows\"}, inplace=True)\n",
    "# tv_shows_duration.head()\n",
    "frax3 = all_rec_france_tv_shows_duration.head().plot.bar(x='duration (in seasons)', y='num of tv shows', rot=0, figsize=(6,4))"
   ]
  },
  {
   "cell_type": "code",
   "execution_count": 68,
   "metadata": {},
   "outputs": [
    {
     "name": "stderr",
     "output_type": "stream",
     "text": [
      "/usr/local/lib/python3.6/dist-packages/pandas/core/indexing.py:1743: SettingWithCopyWarning: \n",
      "A value is trying to be set on a copy of a slice from a DataFrame.\n",
      "Try using .loc[row_indexer,col_indexer] = value instead\n",
      "\n",
      "See the caveats in the documentation: https://pandas.pydata.org/pandas-docs/stable/user_guide/indexing.html#returning-a-view-versus-a-copy\n",
      "  isetter(ilocs[0], value)\n"
     ]
    }
   ],
   "source": [
    "# figure out why the copy has flaws\n",
    "all_rec_france_movies.loc[:, 'duration'] = all_rec_france_movies['duration'].str.replace(' min', '')\n",
    "int_france_movies = all_rec_france_movies.copy()\n",
    "int_france_movies['duration'] = int_france_movies['duration'].astype(int)\n",
    "sorted_france_movies = int_france_movies.sort_values(by=['duration'])\n",
    "# sorted_france_movies = sorted_france_movies[sorted_movies['duration'] < 200]"
   ]
  },
  {
   "cell_type": "code",
   "execution_count": 38,
   "metadata": {},
   "outputs": [
    {
     "data": {
      "text/plain": [
       "<matplotlib.axes._subplots.AxesSubplot at 0x7f0705632d68>"
      ]
     },
     "execution_count": 38,
     "metadata": {},
     "output_type": "execute_result"
    },
    {
     "data": {
      "image/png": "[encoded data removed]",
      "text/plain": [
       "<Figure size 720x360 with 1 Axes>"
      ]
     },
     "metadata": {},
     "output_type": "display_data"
    }
   ],
   "source": [
    "sns.set(rc={'figure.figsize':(10,5)})\n",
    "sns.histplot(data=sorted_france_movies, x='duration')"
   ]
  },
  {
   "cell_type": "markdown",
   "metadata": {},
   "source": [
    "# Genre Trends for France"
   ]
  },
  {
   "cell_type": "markdown",
   "metadata": {},
   "source": [
    "# Movies\n",
    "\n",
    "International movies as well as dramas seem to be most popular.\n",
    "\n",
    "It would be great for Zuckflix to focus on those in the first few years."
   ]
  },
  {
   "cell_type": "code",
   "execution_count": 39,
   "metadata": {},
   "outputs": [
    {
     "data": {
      "text/html": [
       "<div>\n",
       "<style scoped>\n",
       "    .dataframe tbody tr th:only-of-type {\n",
       "        vertical-align: middle;\n",
       "    }\n",
       "\n",
       "    .dataframe tbody tr th {\n",
       "        vertical-align: top;\n",
       "    }\n",
       "\n",
       "    .dataframe thead th {\n",
       "        text-align: right;\n",
       "    }\n",
       "</style>\n",
       "<table border=\"1\" class=\"dataframe\">\n",
       "  <thead>\n",
       "    <tr style=\"text-align: right;\">\n",
       "      <th></th>\n",
       "      <th>index</th>\n",
       "      <th>listed_in</th>\n",
       "    </tr>\n",
       "  </thead>\n",
       "  <tbody>\n",
       "    <tr>\n",
       "      <th>0</th>\n",
       "      <td>International Movies</td>\n",
       "      <td>187</td>\n",
       "    </tr>\n",
       "    <tr>\n",
       "      <th>1</th>\n",
       "      <td>Dramas</td>\n",
       "      <td>142</td>\n",
       "    </tr>\n",
       "    <tr>\n",
       "      <th>2</th>\n",
       "      <td>Independent Movies</td>\n",
       "      <td>61</td>\n",
       "    </tr>\n",
       "    <tr>\n",
       "      <th>3</th>\n",
       "      <td>Comedies</td>\n",
       "      <td>47</td>\n",
       "    </tr>\n",
       "    <tr>\n",
       "      <th>4</th>\n",
       "      <td>Documentaries</td>\n",
       "      <td>41</td>\n",
       "    </tr>\n",
       "  </tbody>\n",
       "</table>\n",
       "</div>"
      ],
      "text/plain": [
       "                  index  listed_in\n",
       "0  International Movies        187\n",
       "1                Dramas        142\n",
       "2    Independent Movies         61\n",
       "3              Comedies         47\n",
       "4         Documentaries         41"
      ]
     },
     "execution_count": 39,
     "metadata": {},
     "output_type": "execute_result"
    }
   ],
   "source": [
    "# copying the dataframe\n",
    "all_france_movies_genres = all_rec_france_movies.copy()\n",
    "\n",
    "# split the strings into lists\n",
    "all_france_movies_genres['listed_in'] = all_france_movies_genres['listed_in'].str.split(', ')\n",
    "\n",
    "# explode the lists\n",
    "all_france_movies_genres = all_france_movies_genres.explode('listed_in').reset_index(drop=True)\n",
    "\n",
    "# dataframe fro recent shows with all countries\n",
    "france_movies_genres_df = pd.DataFrame(all_france_movies_genres['listed_in'].value_counts()).reset_index()\n",
    "france_movies_genres_df.head()"
   ]
  },
  {
   "cell_type": "markdown",
   "metadata": {},
   "source": [
    "# TV Shows\n",
    "\n",
    "International TV shows as well as TV drams and kids TV are most popular.\n",
    "\n",
    "Probably, Zuckflix should focus on international TV shows"
   ]
  },
  {
   "cell_type": "code",
   "execution_count": 40,
   "metadata": {},
   "outputs": [
    {
     "data": {
      "text/html": [
       "<div>\n",
       "<style scoped>\n",
       "    .dataframe tbody tr th:only-of-type {\n",
       "        vertical-align: middle;\n",
       "    }\n",
       "\n",
       "    .dataframe tbody tr th {\n",
       "        vertical-align: top;\n",
       "    }\n",
       "\n",
       "    .dataframe thead th {\n",
       "        text-align: right;\n",
       "    }\n",
       "</style>\n",
       "<table border=\"1\" class=\"dataframe\">\n",
       "  <thead>\n",
       "    <tr style=\"text-align: right;\">\n",
       "      <th></th>\n",
       "      <th>index</th>\n",
       "      <th>listed_in</th>\n",
       "    </tr>\n",
       "  </thead>\n",
       "  <tbody>\n",
       "    <tr>\n",
       "      <th>0</th>\n",
       "      <td>International TV Shows</td>\n",
       "      <td>40</td>\n",
       "    </tr>\n",
       "    <tr>\n",
       "      <th>1</th>\n",
       "      <td>Kids' TV</td>\n",
       "      <td>38</td>\n",
       "    </tr>\n",
       "    <tr>\n",
       "      <th>2</th>\n",
       "      <td>TV Dramas</td>\n",
       "      <td>25</td>\n",
       "    </tr>\n",
       "    <tr>\n",
       "      <th>3</th>\n",
       "      <td>TV Comedies</td>\n",
       "      <td>21</td>\n",
       "    </tr>\n",
       "    <tr>\n",
       "      <th>4</th>\n",
       "      <td>Crime TV Shows</td>\n",
       "      <td>20</td>\n",
       "    </tr>\n",
       "  </tbody>\n",
       "</table>\n",
       "</div>"
      ],
      "text/plain": [
       "                    index  listed_in\n",
       "0  International TV Shows         40\n",
       "1                Kids' TV         38\n",
       "2               TV Dramas         25\n",
       "3             TV Comedies         21\n",
       "4          Crime TV Shows         20"
      ]
     },
     "execution_count": 40,
     "metadata": {},
     "output_type": "execute_result"
    }
   ],
   "source": [
    "# copying the dataframe\n",
    "all_france_tv_shows_genres = all_rec_france_tv_shows.copy()\n",
    "\n",
    "# split the strings into lists\n",
    "all_france_tv_shows_genres['listed_in'] = all_france_tv_shows_genres['listed_in'].str.split(', ')\n",
    "\n",
    "# explode the lists\n",
    "all_france_tv_shows_genres = all_france_tv_shows_genres.explode('listed_in').reset_index(drop=True)\n",
    "\n",
    "# dataframe fro recent shows with all countries\n",
    "france_tv_shows_genres_df = pd.DataFrame(all_france_tv_shows_genres['listed_in'].value_counts()).reset_index()\n",
    "france_tv_shows_genres_df.head()"
   ]
  },
  {
   "cell_type": "markdown",
   "metadata": {},
   "source": [
    "# Remaining Analysis\n",
    "\n",
    "## Priority\n",
    "\n",
    "\n",
    "## Less Priority\n",
    "director\n",
    "cast\n",
    "date_added vs. release_year\n",
    "description (probably not)"
   ]
  },
  {
   "cell_type": "markdown",
   "metadata": {},
   "source": [
    "# To Do if Time Allows\n",
    "\n",
    "Check what are the countries where content partially produced in France is also produced"
   ]
  },
  {
   "cell_type": "code",
   "execution_count": 41,
   "metadata": {},
   "outputs": [
    {
     "data": {
      "text/html": [
       "<div>\n",
       "<style scoped>\n",
       "    .dataframe tbody tr th:only-of-type {\n",
       "        vertical-align: middle;\n",
       "    }\n",
       "\n",
       "    .dataframe tbody tr th {\n",
       "        vertical-align: top;\n",
       "    }\n",
       "\n",
       "    .dataframe thead th {\n",
       "        text-align: right;\n",
       "    }\n",
       "</style>\n",
       "<table border=\"1\" class=\"dataframe\">\n",
       "  <thead>\n",
       "    <tr style=\"text-align: right;\">\n",
       "      <th></th>\n",
       "      <th>show_id</th>\n",
       "      <th>type</th>\n",
       "      <th>title</th>\n",
       "      <th>director</th>\n",
       "      <th>cast</th>\n",
       "      <th>country</th>\n",
       "      <th>date_added</th>\n",
       "      <th>release_year</th>\n",
       "      <th>rating</th>\n",
       "      <th>duration</th>\n",
       "      <th>listed_in</th>\n",
       "      <th>description</th>\n",
       "      <th>year_added</th>\n",
       "    </tr>\n",
       "  </thead>\n",
       "  <tbody>\n",
       "    <tr>\n",
       "      <th>0</th>\n",
       "      <td>s1</td>\n",
       "      <td>TV Show</td>\n",
       "      <td>3%</td>\n",
       "      <td>NaN</td>\n",
       "      <td>João Miguel, Bianca Comparato, Michel Gomes, R...</td>\n",
       "      <td>Brazil</td>\n",
       "      <td>2020-08-14</td>\n",
       "      <td>2020</td>\n",
       "      <td>TV-MA</td>\n",
       "      <td>4 Seasons</td>\n",
       "      <td>International TV Shows, TV Dramas, TV Sci-Fi &amp;...</td>\n",
       "      <td>In a future where the elite inhabit an island ...</td>\n",
       "      <td>2020</td>\n",
       "    </tr>\n",
       "    <tr>\n",
       "      <th>1</th>\n",
       "      <td>s2</td>\n",
       "      <td>Movie</td>\n",
       "      <td>7:19</td>\n",
       "      <td>Jorge Michel Grau</td>\n",
       "      <td>Demián Bichir, Héctor Bonilla, Oscar Serrano, ...</td>\n",
       "      <td>Mexico</td>\n",
       "      <td>2016-12-23</td>\n",
       "      <td>2016</td>\n",
       "      <td>TV-MA</td>\n",
       "      <td>93 min</td>\n",
       "      <td>Dramas, International Movies</td>\n",
       "      <td>After a devastating earthquake hits Mexico Cit...</td>\n",
       "      <td>2016</td>\n",
       "    </tr>\n",
       "    <tr>\n",
       "      <th>2</th>\n",
       "      <td>s3</td>\n",
       "      <td>Movie</td>\n",
       "      <td>23:59</td>\n",
       "      <td>Gilbert Chan</td>\n",
       "      <td>Tedd Chan, Stella Chung, Henley Hii, Lawrence ...</td>\n",
       "      <td>Singapore</td>\n",
       "      <td>2018-12-20</td>\n",
       "      <td>2011</td>\n",
       "      <td>R</td>\n",
       "      <td>78 min</td>\n",
       "      <td>Horror Movies, International Movies</td>\n",
       "      <td>When an army recruit is found dead, his fellow...</td>\n",
       "      <td>2018</td>\n",
       "    </tr>\n",
       "    <tr>\n",
       "      <th>3</th>\n",
       "      <td>s4</td>\n",
       "      <td>Movie</td>\n",
       "      <td>9</td>\n",
       "      <td>Shane Acker</td>\n",
       "      <td>Elijah Wood, John C. Reilly, Jennifer Connelly...</td>\n",
       "      <td>United States</td>\n",
       "      <td>2017-11-16</td>\n",
       "      <td>2009</td>\n",
       "      <td>PG-13</td>\n",
       "      <td>80 min</td>\n",
       "      <td>Action &amp; Adventure, Independent Movies, Sci-Fi...</td>\n",
       "      <td>In a postapocalyptic world, rag-doll robots hi...</td>\n",
       "      <td>2017</td>\n",
       "    </tr>\n",
       "    <tr>\n",
       "      <th>4</th>\n",
       "      <td>s5</td>\n",
       "      <td>Movie</td>\n",
       "      <td>21</td>\n",
       "      <td>Robert Luketic</td>\n",
       "      <td>Jim Sturgess, Kevin Spacey, Kate Bosworth, Aar...</td>\n",
       "      <td>United States</td>\n",
       "      <td>2020-01-01</td>\n",
       "      <td>2008</td>\n",
       "      <td>PG-13</td>\n",
       "      <td>123 min</td>\n",
       "      <td>Dramas</td>\n",
       "      <td>A brilliant group of students become card-coun...</td>\n",
       "      <td>2020</td>\n",
       "    </tr>\n",
       "    <tr>\n",
       "      <th>...</th>\n",
       "      <td>...</td>\n",
       "      <td>...</td>\n",
       "      <td>...</td>\n",
       "      <td>...</td>\n",
       "      <td>...</td>\n",
       "      <td>...</td>\n",
       "      <td>...</td>\n",
       "      <td>...</td>\n",
       "      <td>...</td>\n",
       "      <td>...</td>\n",
       "      <td>...</td>\n",
       "      <td>...</td>\n",
       "      <td>...</td>\n",
       "    </tr>\n",
       "    <tr>\n",
       "      <th>7782</th>\n",
       "      <td>s7783</td>\n",
       "      <td>Movie</td>\n",
       "      <td>Zozo</td>\n",
       "      <td>Josef Fares</td>\n",
       "      <td>Imad Creidi, Antoinette Turk, Elias Gergi, Car...</td>\n",
       "      <td>Sweden, Czech Republic, United Kingdom, Denmar...</td>\n",
       "      <td>2020-10-19</td>\n",
       "      <td>2005</td>\n",
       "      <td>TV-MA</td>\n",
       "      <td>99 min</td>\n",
       "      <td>Dramas, International Movies</td>\n",
       "      <td>When Lebanon's Civil War deprives Zozo of his ...</td>\n",
       "      <td>2020</td>\n",
       "    </tr>\n",
       "    <tr>\n",
       "      <th>7783</th>\n",
       "      <td>s7784</td>\n",
       "      <td>Movie</td>\n",
       "      <td>Zubaan</td>\n",
       "      <td>Mozez Singh</td>\n",
       "      <td>Vicky Kaushal, Sarah-Jane Dias, Raaghav Chanan...</td>\n",
       "      <td>India</td>\n",
       "      <td>2019-03-02</td>\n",
       "      <td>2015</td>\n",
       "      <td>TV-14</td>\n",
       "      <td>111 min</td>\n",
       "      <td>Dramas, International Movies, Music &amp; Musicals</td>\n",
       "      <td>A scrappy but poor boy worms his way into a ty...</td>\n",
       "      <td>2019</td>\n",
       "    </tr>\n",
       "    <tr>\n",
       "      <th>7784</th>\n",
       "      <td>s7785</td>\n",
       "      <td>Movie</td>\n",
       "      <td>Zulu Man in Japan</td>\n",
       "      <td>NaN</td>\n",
       "      <td>Nasty C</td>\n",
       "      <td>NaN</td>\n",
       "      <td>2020-09-25</td>\n",
       "      <td>2019</td>\n",
       "      <td>TV-MA</td>\n",
       "      <td>44 min</td>\n",
       "      <td>Documentaries, International Movies, Music &amp; M...</td>\n",
       "      <td>In this documentary, South African rapper Nast...</td>\n",
       "      <td>2020</td>\n",
       "    </tr>\n",
       "    <tr>\n",
       "      <th>7785</th>\n",
       "      <td>s7786</td>\n",
       "      <td>TV Show</td>\n",
       "      <td>Zumbo's Just Desserts</td>\n",
       "      <td>NaN</td>\n",
       "      <td>Adriano Zumbo, Rachel Khoo</td>\n",
       "      <td>Australia</td>\n",
       "      <td>2020-10-31</td>\n",
       "      <td>2019</td>\n",
       "      <td>TV-PG</td>\n",
       "      <td>1 Season</td>\n",
       "      <td>International TV Shows, Reality TV</td>\n",
       "      <td>Dessert wizard Adriano Zumbo looks for the nex...</td>\n",
       "      <td>2020</td>\n",
       "    </tr>\n",
       "    <tr>\n",
       "      <th>7786</th>\n",
       "      <td>s7787</td>\n",
       "      <td>Movie</td>\n",
       "      <td>ZZ TOP: THAT LITTLE OL' BAND FROM TEXAS</td>\n",
       "      <td>Sam Dunn</td>\n",
       "      <td>NaN</td>\n",
       "      <td>United Kingdom, Canada, United States</td>\n",
       "      <td>2020-03-01</td>\n",
       "      <td>2019</td>\n",
       "      <td>TV-MA</td>\n",
       "      <td>90 min</td>\n",
       "      <td>Documentaries, Music &amp; Musicals</td>\n",
       "      <td>This documentary delves into the mystique behi...</td>\n",
       "      <td>2020</td>\n",
       "    </tr>\n",
       "  </tbody>\n",
       "</table>\n",
       "<p>7777 rows × 13 columns</p>\n",
       "</div>"
      ],
      "text/plain": [
       "     show_id     type                                    title  \\\n",
       "0         s1  TV Show                                       3%   \n",
       "1         s2    Movie                                     7:19   \n",
       "2         s3    Movie                                    23:59   \n",
       "3         s4    Movie                                        9   \n",
       "4         s5    Movie                                       21   \n",
       "...      ...      ...                                      ...   \n",
       "7782   s7783    Movie                                     Zozo   \n",
       "7783   s7784    Movie                                   Zubaan   \n",
       "7784   s7785    Movie                        Zulu Man in Japan   \n",
       "7785   s7786  TV Show                    Zumbo's Just Desserts   \n",
       "7786   s7787    Movie  ZZ TOP: THAT LITTLE OL' BAND FROM TEXAS   \n",
       "\n",
       "               director                                               cast  \\\n",
       "0                   NaN  João Miguel, Bianca Comparato, Michel Gomes, R...   \n",
       "1     Jorge Michel Grau  Demián Bichir, Héctor Bonilla, Oscar Serrano, ...   \n",
       "2          Gilbert Chan  Tedd Chan, Stella Chung, Henley Hii, Lawrence ...   \n",
       "3           Shane Acker  Elijah Wood, John C. Reilly, Jennifer Connelly...   \n",
       "4        Robert Luketic  Jim Sturgess, Kevin Spacey, Kate Bosworth, Aar...   \n",
       "...                 ...                                                ...   \n",
       "7782        Josef Fares  Imad Creidi, Antoinette Turk, Elias Gergi, Car...   \n",
       "7783        Mozez Singh  Vicky Kaushal, Sarah-Jane Dias, Raaghav Chanan...   \n",
       "7784                NaN                                            Nasty C   \n",
       "7785                NaN                         Adriano Zumbo, Rachel Khoo   \n",
       "7786           Sam Dunn                                                NaN   \n",
       "\n",
       "                                                country date_added  \\\n",
       "0                                                Brazil 2020-08-14   \n",
       "1                                                Mexico 2016-12-23   \n",
       "2                                             Singapore 2018-12-20   \n",
       "3                                         United States 2017-11-16   \n",
       "4                                         United States 2020-01-01   \n",
       "...                                                 ...        ...   \n",
       "7782  Sweden, Czech Republic, United Kingdom, Denmar... 2020-10-19   \n",
       "7783                                              India 2019-03-02   \n",
       "7784                                                NaN 2020-09-25   \n",
       "7785                                          Australia 2020-10-31   \n",
       "7786              United Kingdom, Canada, United States 2020-03-01   \n",
       "\n",
       "      release_year rating   duration  \\\n",
       "0             2020  TV-MA  4 Seasons   \n",
       "1             2016  TV-MA     93 min   \n",
       "2             2011      R     78 min   \n",
       "3             2009  PG-13     80 min   \n",
       "4             2008  PG-13    123 min   \n",
       "...            ...    ...        ...   \n",
       "7782          2005  TV-MA     99 min   \n",
       "7783          2015  TV-14    111 min   \n",
       "7784          2019  TV-MA     44 min   \n",
       "7785          2019  TV-PG   1 Season   \n",
       "7786          2019  TV-MA     90 min   \n",
       "\n",
       "                                              listed_in  \\\n",
       "0     International TV Shows, TV Dramas, TV Sci-Fi &...   \n",
       "1                          Dramas, International Movies   \n",
       "2                   Horror Movies, International Movies   \n",
       "3     Action & Adventure, Independent Movies, Sci-Fi...   \n",
       "4                                                Dramas   \n",
       "...                                                 ...   \n",
       "7782                       Dramas, International Movies   \n",
       "7783     Dramas, International Movies, Music & Musicals   \n",
       "7784  Documentaries, International Movies, Music & M...   \n",
       "7785                 International TV Shows, Reality TV   \n",
       "7786                    Documentaries, Music & Musicals   \n",
       "\n",
       "                                            description  year_added  \n",
       "0     In a future where the elite inhabit an island ...        2020  \n",
       "1     After a devastating earthquake hits Mexico Cit...        2016  \n",
       "2     When an army recruit is found dead, his fellow...        2018  \n",
       "3     In a postapocalyptic world, rag-doll robots hi...        2017  \n",
       "4     A brilliant group of students become card-coun...        2020  \n",
       "...                                                 ...         ...  \n",
       "7782  When Lebanon's Civil War deprives Zozo of his ...        2020  \n",
       "7783  A scrappy but poor boy worms his way into a ty...        2019  \n",
       "7784  In this documentary, South African rapper Nast...        2020  \n",
       "7785  Dessert wizard Adriano Zumbo looks for the nex...        2020  \n",
       "7786  This documentary delves into the mystique behi...        2020  \n",
       "\n",
       "[7777 rows x 13 columns]"
      ]
     },
     "execution_count": 41,
     "metadata": {},
     "output_type": "execute_result"
    }
   ],
   "source": [
    "netflix_titles"
   ]
  }
 ],
 "metadata": {
  "kernelspec": {
   "display_name": "Python 3",
   "language": "python",
   "name": "python3"
  },
  "language_info": {
   "codemirror_mode": {
    "name": "ipython",
    "version": 3
   },
   "file_extension": ".py",
   "mimetype": "text/x-python",
   "name": "python",
   "nbconvert_exporter": "python",
   "pygments_lexer": "ipython3",
   "version": "3.6.9"
  }
 },
 "nbformat": 4,
 "nbformat_minor": 2
}
